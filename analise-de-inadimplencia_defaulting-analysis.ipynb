{
 "cells": [
  {
   "cell_type": "raw",
   "id": "3fefa48d",
   "metadata": {
    "id": "EExWWXmD8GPo",
    "papermill": {
     "duration": 0.013157,
     "end_time": "2024-06-23T16:29:03.422336",
     "exception": false,
     "start_time": "2024-06-23T16:29:03.409179",
     "status": "completed"
    },
    "tags": []
   },
   "source": [
    "O objetivo desta análise é identificar a correlação entre clientes adimplentes e inadimplentes com os demais atributos da tabela identificando as razões para sua inadimplência.\n",
    "\n",
    "The objective of this analysis is to identify the correlation between the compliant and defaulting customers with the other atributes of the table identifying the default reasons."
   ]
  },
  {
   "cell_type": "markdown",
   "id": "864b9b0c",
   "metadata": {
    "id": "YWCMf8GB8dwZ",
    "papermill": {
     "duration": 0.012097,
     "end_time": "2024-06-23T16:29:03.447203",
     "exception": false,
     "start_time": "2024-06-23T16:29:03.435106",
     "status": "completed"
    },
    "tags": []
   },
   "source": [
    "Iniciando a exploração de dados\n",
    "\n",
    "Starting Data Exploring"
   ]
  },
  {
   "cell_type": "code",
   "execution_count": 1,
   "id": "7b521c3d",
   "metadata": {
    "execution": {
     "iopub.execute_input": "2024-06-23T16:29:03.473662Z",
     "iopub.status.busy": "2024-06-23T16:29:03.473245Z",
     "iopub.status.idle": "2024-06-23T16:29:04.865999Z",
     "shell.execute_reply": "2024-06-23T16:29:04.864561Z"
    },
    "id": "EerJrgtyVOXk",
    "papermill": {
     "duration": 1.409208,
     "end_time": "2024-06-23T16:29:04.868739",
     "exception": false,
     "start_time": "2024-06-23T16:29:03.459531",
     "status": "completed"
    },
    "tags": []
   },
   "outputs": [],
   "source": [
    "# Começando a ler o arquivo da versão WEB  / Reading the file on WEB\n",
    "# na_values = 'na' são os dados faltantes / NA Values are the missing data\n",
    "import pandas as pd\n",
    "\n",
    "df = pd.read_csv('https://raw.githubusercontent.com/andre-marcos-perez/ebac-course-utils/develop/dataset/credito.csv', na_values = 'na')"
   ]
  },
  {
   "cell_type": "code",
   "execution_count": 2,
   "id": "6fd08f9c",
   "metadata": {
    "execution": {
     "iopub.execute_input": "2024-06-23T16:29:04.896374Z",
     "iopub.status.busy": "2024-06-23T16:29:04.895465Z",
     "iopub.status.idle": "2024-06-23T16:29:04.920309Z",
     "shell.execute_reply": "2024-06-23T16:29:04.919329Z"
    },
    "executionInfo": {
     "elapsed": 5,
     "status": "ok",
     "timestamp": 1718879125282,
     "user": {
      "displayName": "Luis Muro",
      "userId": "05115176569393165524"
     },
     "user_tz": 240
    },
    "id": "p3MnakoDUX-_",
    "outputId": "6a1e950d-83a3-4b4f-9404-74d9cb13afea",
    "papermill": {
     "duration": 0.040836,
     "end_time": "2024-06-23T16:29:04.922429",
     "exception": false,
     "start_time": "2024-06-23T16:29:04.881593",
     "status": "completed"
    },
    "tags": []
   },
   "outputs": [
    {
     "data": {
      "text/html": [
       "<div>\n",
       "<style scoped>\n",
       "    .dataframe tbody tr th:only-of-type {\n",
       "        vertical-align: middle;\n",
       "    }\n",
       "\n",
       "    .dataframe tbody tr th {\n",
       "        vertical-align: top;\n",
       "    }\n",
       "\n",
       "    .dataframe thead th {\n",
       "        text-align: right;\n",
       "    }\n",
       "</style>\n",
       "<table border=\"1\" class=\"dataframe\">\n",
       "  <thead>\n",
       "    <tr style=\"text-align: right;\">\n",
       "      <th></th>\n",
       "      <th>id</th>\n",
       "      <th>default</th>\n",
       "      <th>idade</th>\n",
       "      <th>sexo</th>\n",
       "      <th>dependentes</th>\n",
       "      <th>escolaridade</th>\n",
       "      <th>estado_civil</th>\n",
       "      <th>salario_anual</th>\n",
       "      <th>tipo_cartao</th>\n",
       "      <th>meses_de_relacionamento</th>\n",
       "      <th>qtd_produtos</th>\n",
       "      <th>iteracoes_12m</th>\n",
       "      <th>meses_inativo_12m</th>\n",
       "      <th>limite_credito</th>\n",
       "      <th>valor_transacoes_12m</th>\n",
       "      <th>qtd_transacoes_12m</th>\n",
       "    </tr>\n",
       "  </thead>\n",
       "  <tbody>\n",
       "    <tr>\n",
       "      <th>0</th>\n",
       "      <td>768805383</td>\n",
       "      <td>0</td>\n",
       "      <td>45</td>\n",
       "      <td>M</td>\n",
       "      <td>3</td>\n",
       "      <td>ensino medio</td>\n",
       "      <td>casado</td>\n",
       "      <td>$60K - $80K</td>\n",
       "      <td>blue</td>\n",
       "      <td>39</td>\n",
       "      <td>5</td>\n",
       "      <td>3</td>\n",
       "      <td>1</td>\n",
       "      <td>12.691,51</td>\n",
       "      <td>1.144,90</td>\n",
       "      <td>42</td>\n",
       "    </tr>\n",
       "    <tr>\n",
       "      <th>1</th>\n",
       "      <td>818770008</td>\n",
       "      <td>0</td>\n",
       "      <td>49</td>\n",
       "      <td>F</td>\n",
       "      <td>5</td>\n",
       "      <td>mestrado</td>\n",
       "      <td>solteiro</td>\n",
       "      <td>menos que $40K</td>\n",
       "      <td>blue</td>\n",
       "      <td>44</td>\n",
       "      <td>6</td>\n",
       "      <td>2</td>\n",
       "      <td>1</td>\n",
       "      <td>8.256,96</td>\n",
       "      <td>1.291,45</td>\n",
       "      <td>33</td>\n",
       "    </tr>\n",
       "    <tr>\n",
       "      <th>2</th>\n",
       "      <td>713982108</td>\n",
       "      <td>0</td>\n",
       "      <td>51</td>\n",
       "      <td>M</td>\n",
       "      <td>3</td>\n",
       "      <td>mestrado</td>\n",
       "      <td>casado</td>\n",
       "      <td>$80K - $120K</td>\n",
       "      <td>blue</td>\n",
       "      <td>36</td>\n",
       "      <td>4</td>\n",
       "      <td>0</td>\n",
       "      <td>1</td>\n",
       "      <td>3.418,56</td>\n",
       "      <td>1.887,72</td>\n",
       "      <td>20</td>\n",
       "    </tr>\n",
       "    <tr>\n",
       "      <th>3</th>\n",
       "      <td>769911858</td>\n",
       "      <td>0</td>\n",
       "      <td>40</td>\n",
       "      <td>F</td>\n",
       "      <td>4</td>\n",
       "      <td>ensino medio</td>\n",
       "      <td>NaN</td>\n",
       "      <td>menos que $40K</td>\n",
       "      <td>blue</td>\n",
       "      <td>34</td>\n",
       "      <td>3</td>\n",
       "      <td>1</td>\n",
       "      <td>4</td>\n",
       "      <td>3.313,03</td>\n",
       "      <td>1.171,56</td>\n",
       "      <td>20</td>\n",
       "    </tr>\n",
       "    <tr>\n",
       "      <th>4</th>\n",
       "      <td>709106358</td>\n",
       "      <td>0</td>\n",
       "      <td>40</td>\n",
       "      <td>M</td>\n",
       "      <td>3</td>\n",
       "      <td>sem educacao formal</td>\n",
       "      <td>casado</td>\n",
       "      <td>$60K - $80K</td>\n",
       "      <td>blue</td>\n",
       "      <td>21</td>\n",
       "      <td>5</td>\n",
       "      <td>0</td>\n",
       "      <td>1</td>\n",
       "      <td>4.716,22</td>\n",
       "      <td>816,08</td>\n",
       "      <td>28</td>\n",
       "    </tr>\n",
       "  </tbody>\n",
       "</table>\n",
       "</div>"
      ],
      "text/plain": [
       "          id  default  idade sexo  dependentes         escolaridade  \\\n",
       "0  768805383        0     45    M            3         ensino medio   \n",
       "1  818770008        0     49    F            5             mestrado   \n",
       "2  713982108        0     51    M            3             mestrado   \n",
       "3  769911858        0     40    F            4         ensino medio   \n",
       "4  709106358        0     40    M            3  sem educacao formal   \n",
       "\n",
       "  estado_civil   salario_anual tipo_cartao  meses_de_relacionamento  \\\n",
       "0       casado     $60K - $80K        blue                       39   \n",
       "1     solteiro  menos que $40K        blue                       44   \n",
       "2       casado    $80K - $120K        blue                       36   \n",
       "3          NaN  menos que $40K        blue                       34   \n",
       "4       casado     $60K - $80K        blue                       21   \n",
       "\n",
       "   qtd_produtos  iteracoes_12m  meses_inativo_12m limite_credito  \\\n",
       "0             5              3                  1      12.691,51   \n",
       "1             6              2                  1       8.256,96   \n",
       "2             4              0                  1       3.418,56   \n",
       "3             3              1                  4       3.313,03   \n",
       "4             5              0                  1       4.716,22   \n",
       "\n",
       "  valor_transacoes_12m  qtd_transacoes_12m  \n",
       "0             1.144,90                  42  \n",
       "1             1.291,45                  33  \n",
       "2             1.887,72                  20  \n",
       "3             1.171,56                  20  \n",
       "4               816,08                  28  "
      ]
     },
     "execution_count": 2,
     "metadata": {},
     "output_type": "execute_result"
    }
   ],
   "source": [
    "# Exibe o cabeçalho / Displays the head\n",
    "df.head(n=5)"
   ]
  },
  {
   "cell_type": "code",
   "execution_count": 3,
   "id": "ee60320c",
   "metadata": {
    "execution": {
     "iopub.execute_input": "2024-06-23T16:29:04.950325Z",
     "iopub.status.busy": "2024-06-23T16:29:04.949970Z",
     "iopub.status.idle": "2024-06-23T16:29:04.956433Z",
     "shell.execute_reply": "2024-06-23T16:29:04.955403Z"
    },
    "executionInfo": {
     "elapsed": 7,
     "status": "ok",
     "timestamp": 1718879125755,
     "user": {
      "displayName": "Luis Muro",
      "userId": "05115176569393165524"
     },
     "user_tz": 240
    },
    "id": "AUHpplmGUeNG",
    "outputId": "0612755d-037a-4219-c851-5bab966b74b2",
    "papermill": {
     "duration": 0.02253,
     "end_time": "2024-06-23T16:29:04.958479",
     "exception": false,
     "start_time": "2024-06-23T16:29:04.935949",
     "status": "completed"
    },
    "tags": []
   },
   "outputs": [
    {
     "data": {
      "text/plain": [
       "(10127, 16)"
      ]
     },
     "execution_count": 3,
     "metadata": {},
     "output_type": "execute_result"
    }
   ],
   "source": [
    "# Estrutura do arquivo / File Structure\n",
    "df.shape # retorna uma tupla (qtd linhas e qtd colunas) / returns a tuple (rows & columns)"
   ]
  },
  {
   "cell_type": "code",
   "execution_count": 4,
   "id": "552e2004",
   "metadata": {
    "execution": {
     "iopub.execute_input": "2024-06-23T16:29:04.985995Z",
     "iopub.status.busy": "2024-06-23T16:29:04.985500Z",
     "iopub.status.idle": "2024-06-23T16:29:04.997796Z",
     "shell.execute_reply": "2024-06-23T16:29:04.996843Z"
    },
    "executionInfo": {
     "elapsed": 6,
     "status": "ok",
     "timestamp": 1718879125755,
     "user": {
      "displayName": "Luis Muro",
      "userId": "05115176569393165524"
     },
     "user_tz": 240
    },
    "id": "DMa9qa4rUumW",
    "outputId": "fa15691a-b0db-449f-8665-c9dcd01d9dcb",
    "papermill": {
     "duration": 0.028585,
     "end_time": "2024-06-23T16:29:05.000003",
     "exception": false,
     "start_time": "2024-06-23T16:29:04.971418",
     "status": "completed"
    },
    "tags": []
   },
   "outputs": [
    {
     "data": {
      "text/plain": [
       "(8500, 16)"
      ]
     },
     "execution_count": 4,
     "metadata": {},
     "output_type": "execute_result"
    }
   ],
   "source": [
    "df[df['default'] == 0].shape"
   ]
  },
  {
   "cell_type": "code",
   "execution_count": 5,
   "id": "98c25f30",
   "metadata": {
    "execution": {
     "iopub.execute_input": "2024-06-23T16:29:05.027790Z",
     "iopub.status.busy": "2024-06-23T16:29:05.027412Z",
     "iopub.status.idle": "2024-06-23T16:29:05.035463Z",
     "shell.execute_reply": "2024-06-23T16:29:05.034654Z"
    },
    "executionInfo": {
     "elapsed": 5,
     "status": "ok",
     "timestamp": 1718879125755,
     "user": {
      "displayName": "Luis Muro",
      "userId": "05115176569393165524"
     },
     "user_tz": 240
    },
    "id": "uuR2n_X6U1A-",
    "outputId": "51407401-f0d7-4499-cc29-6fc5e22f21d6",
    "papermill": {
     "duration": 0.024257,
     "end_time": "2024-06-23T16:29:05.037451",
     "exception": false,
     "start_time": "2024-06-23T16:29:05.013194",
     "status": "completed"
    },
    "tags": []
   },
   "outputs": [
    {
     "data": {
      "text/plain": [
       "(1627, 16)"
      ]
     },
     "execution_count": 5,
     "metadata": {},
     "output_type": "execute_result"
    }
   ],
   "source": [
    "df[df['default'] == 1].shape"
   ]
  },
  {
   "cell_type": "code",
   "execution_count": 6,
   "id": "57eba6eb",
   "metadata": {
    "execution": {
     "iopub.execute_input": "2024-06-23T16:29:05.065482Z",
     "iopub.status.busy": "2024-06-23T16:29:05.064715Z",
     "iopub.status.idle": "2024-06-23T16:29:05.072642Z",
     "shell.execute_reply": "2024-06-23T16:29:05.071812Z"
    },
    "id": "_0eR1FvpU62H",
    "papermill": {
     "duration": 0.024176,
     "end_time": "2024-06-23T16:29:05.074685",
     "exception": false,
     "start_time": "2024-06-23T16:29:05.050509",
     "status": "completed"
    },
    "tags": []
   },
   "outputs": [],
   "source": [
    "qtd_total, _ = df.shape\n",
    "qtd_adimplentes, _ = df[df['default'] == 0].shape\n",
    "qtd_inadimplentes, _ = df[df['default'] == 1].shape"
   ]
  },
  {
   "cell_type": "code",
   "execution_count": 7,
   "id": "e371f64c",
   "metadata": {
    "execution": {
     "iopub.execute_input": "2024-06-23T16:29:05.102935Z",
     "iopub.status.busy": "2024-06-23T16:29:05.102104Z",
     "iopub.status.idle": "2024-06-23T16:29:05.107407Z",
     "shell.execute_reply": "2024-06-23T16:29:05.106488Z"
    },
    "executionInfo": {
     "elapsed": 4,
     "status": "ok",
     "timestamp": 1718879125755,
     "user": {
      "displayName": "Luis Muro",
      "userId": "05115176569393165524"
     },
     "user_tz": 240
    },
    "id": "ObLqdJfEWFRB",
    "outputId": "c57a72c5-08b4-4bfd-e6e3-fbb2a180a17d",
    "papermill": {
     "duration": 0.021666,
     "end_time": "2024-06-23T16:29:05.109601",
     "exception": false,
     "start_time": "2024-06-23T16:29:05.087935",
     "status": "completed"
    },
    "tags": []
   },
   "outputs": [
    {
     "name": "stdout",
     "output_type": "stream",
     "text": [
      "A proporção de clientes adimplentes é de 83.93%\n",
      "A proporção de clientes inadimplentes é de 16.07%\n"
     ]
    }
   ],
   "source": [
    "print(f'A proporção de clientes adimplentes é de {round(100 * qtd_adimplentes / qtd_total, 2)}%')\n",
    "print(f'A proporção de clientes inadimplentes é de {round(100 * qtd_inadimplentes / qtd_total, 2)}%')"
   ]
  },
  {
   "cell_type": "code",
   "execution_count": 8,
   "id": "ff1afc3b",
   "metadata": {
    "execution": {
     "iopub.execute_input": "2024-06-23T16:29:05.137770Z",
     "iopub.status.busy": "2024-06-23T16:29:05.136793Z",
     "iopub.status.idle": "2024-06-23T16:29:05.151976Z",
     "shell.execute_reply": "2024-06-23T16:29:05.151034Z"
    },
    "executionInfo": {
     "elapsed": 471,
     "status": "ok",
     "timestamp": 1718879126223,
     "user": {
      "displayName": "Luis Muro",
      "userId": "05115176569393165524"
     },
     "user_tz": 240
    },
    "id": "liLhjCVxWZq4",
    "outputId": "3e788518-1eb6-48ae-da92-2d87ccddaaf7",
    "papermill": {
     "duration": 0.031252,
     "end_time": "2024-06-23T16:29:05.153979",
     "exception": false,
     "start_time": "2024-06-23T16:29:05.122727",
     "status": "completed"
    },
    "tags": []
   },
   "outputs": [
    {
     "data": {
      "text/html": [
       "<div>\n",
       "<style scoped>\n",
       "    .dataframe tbody tr th:only-of-type {\n",
       "        vertical-align: middle;\n",
       "    }\n",
       "\n",
       "    .dataframe tbody tr th {\n",
       "        vertical-align: top;\n",
       "    }\n",
       "\n",
       "    .dataframe thead th {\n",
       "        text-align: right;\n",
       "    }\n",
       "</style>\n",
       "<table border=\"1\" class=\"dataframe\">\n",
       "  <thead>\n",
       "    <tr style=\"text-align: right;\">\n",
       "      <th></th>\n",
       "      <th>id</th>\n",
       "      <th>default</th>\n",
       "      <th>idade</th>\n",
       "      <th>sexo</th>\n",
       "      <th>dependentes</th>\n",
       "      <th>escolaridade</th>\n",
       "      <th>estado_civil</th>\n",
       "      <th>salario_anual</th>\n",
       "      <th>tipo_cartao</th>\n",
       "      <th>meses_de_relacionamento</th>\n",
       "      <th>qtd_produtos</th>\n",
       "      <th>iteracoes_12m</th>\n",
       "      <th>meses_inativo_12m</th>\n",
       "      <th>limite_credito</th>\n",
       "      <th>valor_transacoes_12m</th>\n",
       "      <th>qtd_transacoes_12m</th>\n",
       "    </tr>\n",
       "  </thead>\n",
       "  <tbody>\n",
       "    <tr>\n",
       "      <th>0</th>\n",
       "      <td>768805383</td>\n",
       "      <td>0</td>\n",
       "      <td>45</td>\n",
       "      <td>M</td>\n",
       "      <td>3</td>\n",
       "      <td>ensino medio</td>\n",
       "      <td>casado</td>\n",
       "      <td>$60K - $80K</td>\n",
       "      <td>blue</td>\n",
       "      <td>39</td>\n",
       "      <td>5</td>\n",
       "      <td>3</td>\n",
       "      <td>1</td>\n",
       "      <td>12.691,51</td>\n",
       "      <td>1.144,90</td>\n",
       "      <td>42</td>\n",
       "    </tr>\n",
       "    <tr>\n",
       "      <th>1</th>\n",
       "      <td>818770008</td>\n",
       "      <td>0</td>\n",
       "      <td>49</td>\n",
       "      <td>F</td>\n",
       "      <td>5</td>\n",
       "      <td>mestrado</td>\n",
       "      <td>solteiro</td>\n",
       "      <td>menos que $40K</td>\n",
       "      <td>blue</td>\n",
       "      <td>44</td>\n",
       "      <td>6</td>\n",
       "      <td>2</td>\n",
       "      <td>1</td>\n",
       "      <td>8.256,96</td>\n",
       "      <td>1.291,45</td>\n",
       "      <td>33</td>\n",
       "    </tr>\n",
       "    <tr>\n",
       "      <th>2</th>\n",
       "      <td>713982108</td>\n",
       "      <td>0</td>\n",
       "      <td>51</td>\n",
       "      <td>M</td>\n",
       "      <td>3</td>\n",
       "      <td>mestrado</td>\n",
       "      <td>casado</td>\n",
       "      <td>$80K - $120K</td>\n",
       "      <td>blue</td>\n",
       "      <td>36</td>\n",
       "      <td>4</td>\n",
       "      <td>0</td>\n",
       "      <td>1</td>\n",
       "      <td>3.418,56</td>\n",
       "      <td>1.887,72</td>\n",
       "      <td>20</td>\n",
       "    </tr>\n",
       "    <tr>\n",
       "      <th>3</th>\n",
       "      <td>769911858</td>\n",
       "      <td>0</td>\n",
       "      <td>40</td>\n",
       "      <td>F</td>\n",
       "      <td>4</td>\n",
       "      <td>ensino medio</td>\n",
       "      <td>NaN</td>\n",
       "      <td>menos que $40K</td>\n",
       "      <td>blue</td>\n",
       "      <td>34</td>\n",
       "      <td>3</td>\n",
       "      <td>1</td>\n",
       "      <td>4</td>\n",
       "      <td>3.313,03</td>\n",
       "      <td>1.171,56</td>\n",
       "      <td>20</td>\n",
       "    </tr>\n",
       "    <tr>\n",
       "      <th>4</th>\n",
       "      <td>709106358</td>\n",
       "      <td>0</td>\n",
       "      <td>40</td>\n",
       "      <td>M</td>\n",
       "      <td>3</td>\n",
       "      <td>sem educacao formal</td>\n",
       "      <td>casado</td>\n",
       "      <td>$60K - $80K</td>\n",
       "      <td>blue</td>\n",
       "      <td>21</td>\n",
       "      <td>5</td>\n",
       "      <td>0</td>\n",
       "      <td>1</td>\n",
       "      <td>4.716,22</td>\n",
       "      <td>816,08</td>\n",
       "      <td>28</td>\n",
       "    </tr>\n",
       "  </tbody>\n",
       "</table>\n",
       "</div>"
      ],
      "text/plain": [
       "          id  default  idade sexo  dependentes         escolaridade  \\\n",
       "0  768805383        0     45    M            3         ensino medio   \n",
       "1  818770008        0     49    F            5             mestrado   \n",
       "2  713982108        0     51    M            3             mestrado   \n",
       "3  769911858        0     40    F            4         ensino medio   \n",
       "4  709106358        0     40    M            3  sem educacao formal   \n",
       "\n",
       "  estado_civil   salario_anual tipo_cartao  meses_de_relacionamento  \\\n",
       "0       casado     $60K - $80K        blue                       39   \n",
       "1     solteiro  menos que $40K        blue                       44   \n",
       "2       casado    $80K - $120K        blue                       36   \n",
       "3          NaN  menos que $40K        blue                       34   \n",
       "4       casado     $60K - $80K        blue                       21   \n",
       "\n",
       "   qtd_produtos  iteracoes_12m  meses_inativo_12m limite_credito  \\\n",
       "0             5              3                  1      12.691,51   \n",
       "1             6              2                  1       8.256,96   \n",
       "2             4              0                  1       3.418,56   \n",
       "3             3              1                  4       3.313,03   \n",
       "4             5              0                  1       4.716,22   \n",
       "\n",
       "  valor_transacoes_12m  qtd_transacoes_12m  \n",
       "0             1.144,90                  42  \n",
       "1             1.291,45                  33  \n",
       "2             1.887,72                  20  \n",
       "3             1.171,56                  20  \n",
       "4               816,08                  28  "
      ]
     },
     "execution_count": 8,
     "metadata": {},
     "output_type": "execute_result"
    }
   ],
   "source": [
    "# Schema\n",
    "\n",
    "df.head(n=5)"
   ]
  },
  {
   "cell_type": "code",
   "execution_count": 9,
   "id": "99b51c57",
   "metadata": {
    "execution": {
     "iopub.execute_input": "2024-06-23T16:29:05.182506Z",
     "iopub.status.busy": "2024-06-23T16:29:05.182148Z",
     "iopub.status.idle": "2024-06-23T16:29:05.189331Z",
     "shell.execute_reply": "2024-06-23T16:29:05.188488Z"
    },
    "executionInfo": {
     "elapsed": 11,
     "status": "ok",
     "timestamp": 1718879126224,
     "user": {
      "displayName": "Luis Muro",
      "userId": "05115176569393165524"
     },
     "user_tz": 240
    },
    "id": "PHTwijM9Wd95",
    "outputId": "9cbadd41-3c55-4540-edcd-fbd30e7321d7",
    "papermill": {
     "duration": 0.023869,
     "end_time": "2024-06-23T16:29:05.191360",
     "exception": false,
     "start_time": "2024-06-23T16:29:05.167491",
     "status": "completed"
    },
    "tags": []
   },
   "outputs": [
    {
     "data": {
      "text/plain": [
       "id                          int64\n",
       "default                     int64\n",
       "idade                       int64\n",
       "sexo                       object\n",
       "dependentes                 int64\n",
       "escolaridade               object\n",
       "estado_civil               object\n",
       "salario_anual              object\n",
       "tipo_cartao                object\n",
       "meses_de_relacionamento     int64\n",
       "qtd_produtos                int64\n",
       "iteracoes_12m               int64\n",
       "meses_inativo_12m           int64\n",
       "limite_credito             object\n",
       "valor_transacoes_12m       object\n",
       "qtd_transacoes_12m          int64\n",
       "dtype: object"
      ]
     },
     "execution_count": 9,
     "metadata": {},
     "output_type": "execute_result"
    }
   ],
   "source": [
    "# Colunas e seus tipos de dados / Columns and datatypes\n",
    "\n",
    "df.dtypes"
   ]
  },
  {
   "cell_type": "code",
   "execution_count": 10,
   "id": "6d59e4a2",
   "metadata": {
    "execution": {
     "iopub.execute_input": "2024-06-23T16:29:05.219720Z",
     "iopub.status.busy": "2024-06-23T16:29:05.219326Z",
     "iopub.status.idle": "2024-06-23T16:29:05.259201Z",
     "shell.execute_reply": "2024-06-23T16:29:05.258201Z"
    },
    "executionInfo": {
     "elapsed": 10,
     "status": "ok",
     "timestamp": 1718879126224,
     "user": {
      "displayName": "Luis Muro",
      "userId": "05115176569393165524"
     },
     "user_tz": 240
    },
    "id": "S51wY0bOXj_5",
    "outputId": "3b48e0e7-d7f5-4a22-e8e4-324c992e2c85",
    "papermill": {
     "duration": 0.056738,
     "end_time": "2024-06-23T16:29:05.261529",
     "exception": false,
     "start_time": "2024-06-23T16:29:05.204791",
     "status": "completed"
    },
    "tags": []
   },
   "outputs": [
    {
     "data": {
      "text/html": [
       "<div>\n",
       "<style scoped>\n",
       "    .dataframe tbody tr th:only-of-type {\n",
       "        vertical-align: middle;\n",
       "    }\n",
       "\n",
       "    .dataframe tbody tr th {\n",
       "        vertical-align: top;\n",
       "    }\n",
       "\n",
       "    .dataframe thead th {\n",
       "        text-align: right;\n",
       "    }\n",
       "</style>\n",
       "<table border=\"1\" class=\"dataframe\">\n",
       "  <thead>\n",
       "    <tr style=\"text-align: right;\">\n",
       "      <th></th>\n",
       "      <th>count</th>\n",
       "      <th>unique</th>\n",
       "      <th>top</th>\n",
       "      <th>freq</th>\n",
       "    </tr>\n",
       "  </thead>\n",
       "  <tbody>\n",
       "    <tr>\n",
       "      <th>sexo</th>\n",
       "      <td>10127</td>\n",
       "      <td>2</td>\n",
       "      <td>F</td>\n",
       "      <td>5358</td>\n",
       "    </tr>\n",
       "    <tr>\n",
       "      <th>escolaridade</th>\n",
       "      <td>8608</td>\n",
       "      <td>5</td>\n",
       "      <td>mestrado</td>\n",
       "      <td>3128</td>\n",
       "    </tr>\n",
       "    <tr>\n",
       "      <th>estado_civil</th>\n",
       "      <td>9378</td>\n",
       "      <td>3</td>\n",
       "      <td>casado</td>\n",
       "      <td>4687</td>\n",
       "    </tr>\n",
       "    <tr>\n",
       "      <th>salario_anual</th>\n",
       "      <td>9015</td>\n",
       "      <td>5</td>\n",
       "      <td>menos que $40K</td>\n",
       "      <td>3561</td>\n",
       "    </tr>\n",
       "    <tr>\n",
       "      <th>tipo_cartao</th>\n",
       "      <td>10127</td>\n",
       "      <td>4</td>\n",
       "      <td>blue</td>\n",
       "      <td>9436</td>\n",
       "    </tr>\n",
       "    <tr>\n",
       "      <th>limite_credito</th>\n",
       "      <td>10127</td>\n",
       "      <td>9272</td>\n",
       "      <td>1.438,21</td>\n",
       "      <td>11</td>\n",
       "    </tr>\n",
       "    <tr>\n",
       "      <th>valor_transacoes_12m</th>\n",
       "      <td>10127</td>\n",
       "      <td>10035</td>\n",
       "      <td>3.851,51</td>\n",
       "      <td>3</td>\n",
       "    </tr>\n",
       "  </tbody>\n",
       "</table>\n",
       "</div>"
      ],
      "text/plain": [
       "                      count unique             top  freq\n",
       "sexo                  10127      2               F  5358\n",
       "escolaridade           8608      5        mestrado  3128\n",
       "estado_civil           9378      3          casado  4687\n",
       "salario_anual          9015      5  menos que $40K  3561\n",
       "tipo_cartao           10127      4            blue  9436\n",
       "limite_credito        10127   9272        1.438,21    11\n",
       "valor_transacoes_12m  10127  10035        3.851,51     3"
      ]
     },
     "execution_count": 10,
     "metadata": {},
     "output_type": "execute_result"
    }
   ],
   "source": [
    "# Atributos categóricos / Categoric Atributes\n",
    "\n",
    "df.select_dtypes('object').describe().transpose()"
   ]
  },
  {
   "cell_type": "code",
   "execution_count": 11,
   "id": "8bfae919",
   "metadata": {
    "execution": {
     "iopub.execute_input": "2024-06-23T16:29:05.290936Z",
     "iopub.status.busy": "2024-06-23T16:29:05.290299Z",
     "iopub.status.idle": "2024-06-23T16:29:05.329117Z",
     "shell.execute_reply": "2024-06-23T16:29:05.328130Z"
    },
    "executionInfo": {
     "elapsed": 9,
     "status": "ok",
     "timestamp": 1718879126224,
     "user": {
      "displayName": "Luis Muro",
      "userId": "05115176569393165524"
     },
     "user_tz": 240
    },
    "id": "tnexVv6hXu4z",
    "outputId": "fcd221b1-c505-44a5-bfd7-7c60e21dd575",
    "papermill": {
     "duration": 0.055789,
     "end_time": "2024-06-23T16:29:05.331183",
     "exception": false,
     "start_time": "2024-06-23T16:29:05.275394",
     "status": "completed"
    },
    "tags": []
   },
   "outputs": [
    {
     "data": {
      "text/html": [
       "<div>\n",
       "<style scoped>\n",
       "    .dataframe tbody tr th:only-of-type {\n",
       "        vertical-align: middle;\n",
       "    }\n",
       "\n",
       "    .dataframe tbody tr th {\n",
       "        vertical-align: top;\n",
       "    }\n",
       "\n",
       "    .dataframe thead th {\n",
       "        text-align: right;\n",
       "    }\n",
       "</style>\n",
       "<table border=\"1\" class=\"dataframe\">\n",
       "  <thead>\n",
       "    <tr style=\"text-align: right;\">\n",
       "      <th></th>\n",
       "      <th>count</th>\n",
       "      <th>mean</th>\n",
       "      <th>std</th>\n",
       "      <th>min</th>\n",
       "      <th>25%</th>\n",
       "      <th>50%</th>\n",
       "      <th>75%</th>\n",
       "      <th>max</th>\n",
       "    </tr>\n",
       "  </thead>\n",
       "  <tbody>\n",
       "    <tr>\n",
       "      <th>default</th>\n",
       "      <td>10127.0</td>\n",
       "      <td>0.160660</td>\n",
       "      <td>0.367235</td>\n",
       "      <td>0.0</td>\n",
       "      <td>0.0</td>\n",
       "      <td>0.0</td>\n",
       "      <td>0.0</td>\n",
       "      <td>1.0</td>\n",
       "    </tr>\n",
       "    <tr>\n",
       "      <th>idade</th>\n",
       "      <td>10127.0</td>\n",
       "      <td>46.325960</td>\n",
       "      <td>8.016814</td>\n",
       "      <td>26.0</td>\n",
       "      <td>41.0</td>\n",
       "      <td>46.0</td>\n",
       "      <td>52.0</td>\n",
       "      <td>73.0</td>\n",
       "    </tr>\n",
       "    <tr>\n",
       "      <th>dependentes</th>\n",
       "      <td>10127.0</td>\n",
       "      <td>2.346203</td>\n",
       "      <td>1.298908</td>\n",
       "      <td>0.0</td>\n",
       "      <td>1.0</td>\n",
       "      <td>2.0</td>\n",
       "      <td>3.0</td>\n",
       "      <td>5.0</td>\n",
       "    </tr>\n",
       "    <tr>\n",
       "      <th>meses_de_relacionamento</th>\n",
       "      <td>10127.0</td>\n",
       "      <td>35.928409</td>\n",
       "      <td>7.986416</td>\n",
       "      <td>13.0</td>\n",
       "      <td>31.0</td>\n",
       "      <td>36.0</td>\n",
       "      <td>40.0</td>\n",
       "      <td>56.0</td>\n",
       "    </tr>\n",
       "    <tr>\n",
       "      <th>qtd_produtos</th>\n",
       "      <td>10127.0</td>\n",
       "      <td>3.812580</td>\n",
       "      <td>1.554408</td>\n",
       "      <td>1.0</td>\n",
       "      <td>3.0</td>\n",
       "      <td>4.0</td>\n",
       "      <td>5.0</td>\n",
       "      <td>6.0</td>\n",
       "    </tr>\n",
       "    <tr>\n",
       "      <th>iteracoes_12m</th>\n",
       "      <td>10127.0</td>\n",
       "      <td>2.455317</td>\n",
       "      <td>1.106225</td>\n",
       "      <td>0.0</td>\n",
       "      <td>2.0</td>\n",
       "      <td>2.0</td>\n",
       "      <td>3.0</td>\n",
       "      <td>6.0</td>\n",
       "    </tr>\n",
       "    <tr>\n",
       "      <th>meses_inativo_12m</th>\n",
       "      <td>10127.0</td>\n",
       "      <td>2.341167</td>\n",
       "      <td>1.010622</td>\n",
       "      <td>0.0</td>\n",
       "      <td>2.0</td>\n",
       "      <td>2.0</td>\n",
       "      <td>3.0</td>\n",
       "      <td>6.0</td>\n",
       "    </tr>\n",
       "    <tr>\n",
       "      <th>qtd_transacoes_12m</th>\n",
       "      <td>10127.0</td>\n",
       "      <td>64.858695</td>\n",
       "      <td>23.472570</td>\n",
       "      <td>10.0</td>\n",
       "      <td>45.0</td>\n",
       "      <td>67.0</td>\n",
       "      <td>81.0</td>\n",
       "      <td>139.0</td>\n",
       "    </tr>\n",
       "  </tbody>\n",
       "</table>\n",
       "</div>"
      ],
      "text/plain": [
       "                           count       mean        std   min   25%   50%  \\\n",
       "default                  10127.0   0.160660   0.367235   0.0   0.0   0.0   \n",
       "idade                    10127.0  46.325960   8.016814  26.0  41.0  46.0   \n",
       "dependentes              10127.0   2.346203   1.298908   0.0   1.0   2.0   \n",
       "meses_de_relacionamento  10127.0  35.928409   7.986416  13.0  31.0  36.0   \n",
       "qtd_produtos             10127.0   3.812580   1.554408   1.0   3.0   4.0   \n",
       "iteracoes_12m            10127.0   2.455317   1.106225   0.0   2.0   2.0   \n",
       "meses_inativo_12m        10127.0   2.341167   1.010622   0.0   2.0   2.0   \n",
       "qtd_transacoes_12m       10127.0  64.858695  23.472570  10.0  45.0  67.0   \n",
       "\n",
       "                          75%    max  \n",
       "default                   0.0    1.0  \n",
       "idade                    52.0   73.0  \n",
       "dependentes               3.0    5.0  \n",
       "meses_de_relacionamento  40.0   56.0  \n",
       "qtd_produtos              5.0    6.0  \n",
       "iteracoes_12m             3.0    6.0  \n",
       "meses_inativo_12m         3.0    6.0  \n",
       "qtd_transacoes_12m       81.0  139.0  "
      ]
     },
     "execution_count": 11,
     "metadata": {},
     "output_type": "execute_result"
    }
   ],
   "source": [
    "# Atributos numéricos / Numeric Atributes\n",
    "\n",
    "df.drop('id', axis=1).select_dtypes('number').describe().transpose()"
   ]
  },
  {
   "cell_type": "markdown",
   "id": "2e283d4e",
   "metadata": {
    "id": "N8bB5bokbEvs",
    "papermill": {
     "duration": 0.013712,
     "end_time": "2024-06-23T16:29:05.358992",
     "exception": false,
     "start_time": "2024-06-23T16:29:05.345280",
     "status": "completed"
    },
    "tags": []
   },
   "source": [
    "Dados faltantes:\n",
    "\n",
    "Dados faltantes podem ser:\n",
    "* Vazios (\"\")\n",
    "* Nulos (None)\n",
    "* Não disponíveis ou aplicáveis (na, NA, etc.);\n",
    "* Não numérico (nan, NaN, NAN, etc).\n",
    "\n",
    "Missing data can be:\n",
    "* empty (\"\")\n",
    "* Null (None)\n",
    "* Not Available or Applicable"
   ]
  },
  {
   "cell_type": "code",
   "execution_count": 12,
   "id": "1ae3fef9",
   "metadata": {
    "execution": {
     "iopub.execute_input": "2024-06-23T16:29:05.388957Z",
     "iopub.status.busy": "2024-06-23T16:29:05.388087Z",
     "iopub.status.idle": "2024-06-23T16:29:05.404531Z",
     "shell.execute_reply": "2024-06-23T16:29:05.403584Z"
    },
    "executionInfo": {
     "elapsed": 420,
     "status": "ok",
     "timestamp": 1718879126636,
     "user": {
      "displayName": "Luis Muro",
      "userId": "05115176569393165524"
     },
     "user_tz": 240
    },
    "id": "CjOU_PeMZXrO",
    "outputId": "6cfdfbfb-8c9d-4dcf-8175-2273ba14feba",
    "papermill": {
     "duration": 0.033876,
     "end_time": "2024-06-23T16:29:05.406824",
     "exception": false,
     "start_time": "2024-06-23T16:29:05.372948",
     "status": "completed"
    },
    "tags": []
   },
   "outputs": [
    {
     "data": {
      "text/html": [
       "<div>\n",
       "<style scoped>\n",
       "    .dataframe tbody tr th:only-of-type {\n",
       "        vertical-align: middle;\n",
       "    }\n",
       "\n",
       "    .dataframe tbody tr th {\n",
       "        vertical-align: top;\n",
       "    }\n",
       "\n",
       "    .dataframe thead th {\n",
       "        text-align: right;\n",
       "    }\n",
       "</style>\n",
       "<table border=\"1\" class=\"dataframe\">\n",
       "  <thead>\n",
       "    <tr style=\"text-align: right;\">\n",
       "      <th></th>\n",
       "      <th>id</th>\n",
       "      <th>default</th>\n",
       "      <th>idade</th>\n",
       "      <th>sexo</th>\n",
       "      <th>dependentes</th>\n",
       "      <th>escolaridade</th>\n",
       "      <th>estado_civil</th>\n",
       "      <th>salario_anual</th>\n",
       "      <th>tipo_cartao</th>\n",
       "      <th>meses_de_relacionamento</th>\n",
       "      <th>qtd_produtos</th>\n",
       "      <th>iteracoes_12m</th>\n",
       "      <th>meses_inativo_12m</th>\n",
       "      <th>limite_credito</th>\n",
       "      <th>valor_transacoes_12m</th>\n",
       "      <th>qtd_transacoes_12m</th>\n",
       "    </tr>\n",
       "  </thead>\n",
       "  <tbody>\n",
       "    <tr>\n",
       "      <th>0</th>\n",
       "      <td>768805383</td>\n",
       "      <td>0</td>\n",
       "      <td>45</td>\n",
       "      <td>M</td>\n",
       "      <td>3</td>\n",
       "      <td>ensino medio</td>\n",
       "      <td>casado</td>\n",
       "      <td>$60K - $80K</td>\n",
       "      <td>blue</td>\n",
       "      <td>39</td>\n",
       "      <td>5</td>\n",
       "      <td>3</td>\n",
       "      <td>1</td>\n",
       "      <td>12.691,51</td>\n",
       "      <td>1.144,90</td>\n",
       "      <td>42</td>\n",
       "    </tr>\n",
       "    <tr>\n",
       "      <th>1</th>\n",
       "      <td>818770008</td>\n",
       "      <td>0</td>\n",
       "      <td>49</td>\n",
       "      <td>F</td>\n",
       "      <td>5</td>\n",
       "      <td>mestrado</td>\n",
       "      <td>solteiro</td>\n",
       "      <td>menos que $40K</td>\n",
       "      <td>blue</td>\n",
       "      <td>44</td>\n",
       "      <td>6</td>\n",
       "      <td>2</td>\n",
       "      <td>1</td>\n",
       "      <td>8.256,96</td>\n",
       "      <td>1.291,45</td>\n",
       "      <td>33</td>\n",
       "    </tr>\n",
       "    <tr>\n",
       "      <th>2</th>\n",
       "      <td>713982108</td>\n",
       "      <td>0</td>\n",
       "      <td>51</td>\n",
       "      <td>M</td>\n",
       "      <td>3</td>\n",
       "      <td>mestrado</td>\n",
       "      <td>casado</td>\n",
       "      <td>$80K - $120K</td>\n",
       "      <td>blue</td>\n",
       "      <td>36</td>\n",
       "      <td>4</td>\n",
       "      <td>0</td>\n",
       "      <td>1</td>\n",
       "      <td>3.418,56</td>\n",
       "      <td>1.887,72</td>\n",
       "      <td>20</td>\n",
       "    </tr>\n",
       "    <tr>\n",
       "      <th>3</th>\n",
       "      <td>769911858</td>\n",
       "      <td>0</td>\n",
       "      <td>40</td>\n",
       "      <td>F</td>\n",
       "      <td>4</td>\n",
       "      <td>ensino medio</td>\n",
       "      <td>NaN</td>\n",
       "      <td>menos que $40K</td>\n",
       "      <td>blue</td>\n",
       "      <td>34</td>\n",
       "      <td>3</td>\n",
       "      <td>1</td>\n",
       "      <td>4</td>\n",
       "      <td>3.313,03</td>\n",
       "      <td>1.171,56</td>\n",
       "      <td>20</td>\n",
       "    </tr>\n",
       "    <tr>\n",
       "      <th>4</th>\n",
       "      <td>709106358</td>\n",
       "      <td>0</td>\n",
       "      <td>40</td>\n",
       "      <td>M</td>\n",
       "      <td>3</td>\n",
       "      <td>sem educacao formal</td>\n",
       "      <td>casado</td>\n",
       "      <td>$60K - $80K</td>\n",
       "      <td>blue</td>\n",
       "      <td>21</td>\n",
       "      <td>5</td>\n",
       "      <td>0</td>\n",
       "      <td>1</td>\n",
       "      <td>4.716,22</td>\n",
       "      <td>816,08</td>\n",
       "      <td>28</td>\n",
       "    </tr>\n",
       "    <tr>\n",
       "      <th>5</th>\n",
       "      <td>713061558</td>\n",
       "      <td>0</td>\n",
       "      <td>44</td>\n",
       "      <td>M</td>\n",
       "      <td>2</td>\n",
       "      <td>mestrado</td>\n",
       "      <td>casado</td>\n",
       "      <td>$40K - $60K</td>\n",
       "      <td>blue</td>\n",
       "      <td>36</td>\n",
       "      <td>3</td>\n",
       "      <td>2</td>\n",
       "      <td>1</td>\n",
       "      <td>4.010,69</td>\n",
       "      <td>1.088,07</td>\n",
       "      <td>24</td>\n",
       "    </tr>\n",
       "    <tr>\n",
       "      <th>6</th>\n",
       "      <td>810347208</td>\n",
       "      <td>0</td>\n",
       "      <td>51</td>\n",
       "      <td>M</td>\n",
       "      <td>4</td>\n",
       "      <td>NaN</td>\n",
       "      <td>casado</td>\n",
       "      <td>$120K +</td>\n",
       "      <td>gold</td>\n",
       "      <td>46</td>\n",
       "      <td>6</td>\n",
       "      <td>3</td>\n",
       "      <td>1</td>\n",
       "      <td>34.516,72</td>\n",
       "      <td>1.330,87</td>\n",
       "      <td>31</td>\n",
       "    </tr>\n",
       "    <tr>\n",
       "      <th>7</th>\n",
       "      <td>818906208</td>\n",
       "      <td>0</td>\n",
       "      <td>32</td>\n",
       "      <td>M</td>\n",
       "      <td>0</td>\n",
       "      <td>ensino medio</td>\n",
       "      <td>NaN</td>\n",
       "      <td>$60K - $80K</td>\n",
       "      <td>silver</td>\n",
       "      <td>27</td>\n",
       "      <td>2</td>\n",
       "      <td>2</td>\n",
       "      <td>2</td>\n",
       "      <td>29.081,49</td>\n",
       "      <td>1.538,32</td>\n",
       "      <td>36</td>\n",
       "    </tr>\n",
       "    <tr>\n",
       "      <th>8</th>\n",
       "      <td>710930508</td>\n",
       "      <td>0</td>\n",
       "      <td>37</td>\n",
       "      <td>M</td>\n",
       "      <td>3</td>\n",
       "      <td>sem educacao formal</td>\n",
       "      <td>solteiro</td>\n",
       "      <td>$60K - $80K</td>\n",
       "      <td>blue</td>\n",
       "      <td>36</td>\n",
       "      <td>5</td>\n",
       "      <td>0</td>\n",
       "      <td>2</td>\n",
       "      <td>22.352,50</td>\n",
       "      <td>1.350,14</td>\n",
       "      <td>24</td>\n",
       "    </tr>\n",
       "    <tr>\n",
       "      <th>9</th>\n",
       "      <td>719661558</td>\n",
       "      <td>0</td>\n",
       "      <td>48</td>\n",
       "      <td>M</td>\n",
       "      <td>2</td>\n",
       "      <td>mestrado</td>\n",
       "      <td>solteiro</td>\n",
       "      <td>$80K - $120K</td>\n",
       "      <td>blue</td>\n",
       "      <td>36</td>\n",
       "      <td>6</td>\n",
       "      <td>3</td>\n",
       "      <td>3</td>\n",
       "      <td>11.656,41</td>\n",
       "      <td>1.441,73</td>\n",
       "      <td>32</td>\n",
       "    </tr>\n",
       "  </tbody>\n",
       "</table>\n",
       "</div>"
      ],
      "text/plain": [
       "          id  default  idade sexo  dependentes         escolaridade  \\\n",
       "0  768805383        0     45    M            3         ensino medio   \n",
       "1  818770008        0     49    F            5             mestrado   \n",
       "2  713982108        0     51    M            3             mestrado   \n",
       "3  769911858        0     40    F            4         ensino medio   \n",
       "4  709106358        0     40    M            3  sem educacao formal   \n",
       "5  713061558        0     44    M            2             mestrado   \n",
       "6  810347208        0     51    M            4                  NaN   \n",
       "7  818906208        0     32    M            0         ensino medio   \n",
       "8  710930508        0     37    M            3  sem educacao formal   \n",
       "9  719661558        0     48    M            2             mestrado   \n",
       "\n",
       "  estado_civil   salario_anual tipo_cartao  meses_de_relacionamento  \\\n",
       "0       casado     $60K - $80K        blue                       39   \n",
       "1     solteiro  menos que $40K        blue                       44   \n",
       "2       casado    $80K - $120K        blue                       36   \n",
       "3          NaN  menos que $40K        blue                       34   \n",
       "4       casado     $60K - $80K        blue                       21   \n",
       "5       casado     $40K - $60K        blue                       36   \n",
       "6       casado         $120K +        gold                       46   \n",
       "7          NaN     $60K - $80K      silver                       27   \n",
       "8     solteiro     $60K - $80K        blue                       36   \n",
       "9     solteiro    $80K - $120K        blue                       36   \n",
       "\n",
       "   qtd_produtos  iteracoes_12m  meses_inativo_12m limite_credito  \\\n",
       "0             5              3                  1      12.691,51   \n",
       "1             6              2                  1       8.256,96   \n",
       "2             4              0                  1       3.418,56   \n",
       "3             3              1                  4       3.313,03   \n",
       "4             5              0                  1       4.716,22   \n",
       "5             3              2                  1       4.010,69   \n",
       "6             6              3                  1      34.516,72   \n",
       "7             2              2                  2      29.081,49   \n",
       "8             5              0                  2      22.352,50   \n",
       "9             6              3                  3      11.656,41   \n",
       "\n",
       "  valor_transacoes_12m  qtd_transacoes_12m  \n",
       "0             1.144,90                  42  \n",
       "1             1.291,45                  33  \n",
       "2             1.887,72                  20  \n",
       "3             1.171,56                  20  \n",
       "4               816,08                  28  \n",
       "5             1.088,07                  24  \n",
       "6             1.330,87                  31  \n",
       "7             1.538,32                  36  \n",
       "8             1.350,14                  24  \n",
       "9             1.441,73                  32  "
      ]
     },
     "execution_count": 12,
     "metadata": {},
     "output_type": "execute_result"
    }
   ],
   "source": [
    "# Trabalhando com dados faltantes / Working with the missing data\n",
    "df.head(n=10)"
   ]
  },
  {
   "cell_type": "code",
   "execution_count": 13,
   "id": "dbc32851",
   "metadata": {
    "execution": {
     "iopub.execute_input": "2024-06-23T16:29:05.437442Z",
     "iopub.status.busy": "2024-06-23T16:29:05.437068Z",
     "iopub.status.idle": "2024-06-23T16:29:05.449134Z",
     "shell.execute_reply": "2024-06-23T16:29:05.448229Z"
    },
    "executionInfo": {
     "elapsed": 6,
     "status": "ok",
     "timestamp": 1718879126636,
     "user": {
      "displayName": "Luis Muro",
      "userId": "05115176569393165524"
     },
     "user_tz": 240
    },
    "id": "mUTcUd3acu4n",
    "outputId": "7dc6c96a-5747-4f67-9e23-1abd39a4b2f0",
    "papermill": {
     "duration": 0.029851,
     "end_time": "2024-06-23T16:29:05.451154",
     "exception": false,
     "start_time": "2024-06-23T16:29:05.421303",
     "status": "completed"
    },
    "tags": []
   },
   "outputs": [
    {
     "data": {
      "text/plain": [
       "id                         False\n",
       "default                    False\n",
       "idade                      False\n",
       "sexo                       False\n",
       "dependentes                False\n",
       "escolaridade                True\n",
       "estado_civil                True\n",
       "salario_anual               True\n",
       "tipo_cartao                False\n",
       "meses_de_relacionamento    False\n",
       "qtd_produtos               False\n",
       "iteracoes_12m              False\n",
       "meses_inativo_12m          False\n",
       "limite_credito             False\n",
       "valor_transacoes_12m       False\n",
       "qtd_transacoes_12m         False\n",
       "dtype: bool"
      ]
     },
     "execution_count": 13,
     "metadata": {},
     "output_type": "execute_result"
    }
   ],
   "source": [
    "# Verificando quais colunas possuem dados faltantes. / Checking missing data in each column\n",
    "df.isna().any()"
   ]
  },
  {
   "cell_type": "code",
   "execution_count": 14,
   "id": "57ed8c33",
   "metadata": {
    "execution": {
     "iopub.execute_input": "2024-06-23T16:29:05.482116Z",
     "iopub.status.busy": "2024-06-23T16:29:05.481745Z",
     "iopub.status.idle": "2024-06-23T16:29:05.493310Z",
     "shell.execute_reply": "2024-06-23T16:29:05.492315Z"
    },
    "executionInfo": {
     "elapsed": 5,
     "status": "ok",
     "timestamp": 1718879126636,
     "user": {
      "displayName": "Luis Muro",
      "userId": "05115176569393165524"
     },
     "user_tz": 240
    },
    "id": "purVGNApc62_",
    "outputId": "4d61cf31-f502-43c2-b069-d5303d014d68",
    "papermill": {
     "duration": 0.029382,
     "end_time": "2024-06-23T16:29:05.495325",
     "exception": false,
     "start_time": "2024-06-23T16:29:05.465943",
     "status": "completed"
    },
    "tags": []
   },
   "outputs": [
    {
     "data": {
      "text/plain": [
       "id                            0\n",
       "default                       0\n",
       "idade                         0\n",
       "sexo                          0\n",
       "dependentes                   0\n",
       "escolaridade               1519\n",
       "estado_civil                749\n",
       "salario_anual              1112\n",
       "tipo_cartao                   0\n",
       "meses_de_relacionamento       0\n",
       "qtd_produtos                  0\n",
       "iteracoes_12m                 0\n",
       "meses_inativo_12m             0\n",
       "limite_credito                0\n",
       "valor_transacoes_12m          0\n",
       "qtd_transacoes_12m            0\n",
       "dtype: int64"
      ]
     },
     "execution_count": 14,
     "metadata": {},
     "output_type": "execute_result"
    }
   ],
   "source": [
    "# Exibe a qtd de dados faltantes somados por coluna / Displays the total of missing data sum by column\n",
    "df.isna().sum()"
   ]
  },
  {
   "cell_type": "code",
   "execution_count": 15,
   "id": "1b3b9f53",
   "metadata": {
    "execution": {
     "iopub.execute_input": "2024-06-23T16:29:05.526056Z",
     "iopub.status.busy": "2024-06-23T16:29:05.525696Z",
     "iopub.status.idle": "2024-06-23T16:29:05.532095Z",
     "shell.execute_reply": "2024-06-23T16:29:05.531053Z"
    },
    "id": "2FJ9y78Gdg4h",
    "papermill": {
     "duration": 0.024055,
     "end_time": "2024-06-23T16:29:05.534108",
     "exception": false,
     "start_time": "2024-06-23T16:29:05.510053",
     "status": "completed"
    },
    "tags": []
   },
   "outputs": [],
   "source": [
    "# Função que levanta algumas estatísticas sobre as colunas dos dados faltantes.\n",
    "# Function that raises statistics from the missing data in each column\n",
    "def stats_dados_faltantes(df: pd.DataFrame) -> None:\n",
    "  stats_dados_faltantes = []\n",
    "  for col in df.columns:\n",
    "    if df[col].isna().any():\n",
    "      qtd, _= df[df[col].isna()].shape\n",
    "      total, _=df.shape\n",
    "      dict_dados_faltantes = {col: {'quantidade': qtd, \"porcentagem\": round(100 * qtd / total, 2)}}\n",
    "      stats_dados_faltantes.append(dict_dados_faltantes)\n",
    "  for stat in stats_dados_faltantes:\n",
    "    print(stat)"
   ]
  },
  {
   "cell_type": "code",
   "execution_count": 16,
   "id": "2148a341",
   "metadata": {
    "execution": {
     "iopub.execute_input": "2024-06-23T16:29:05.565310Z",
     "iopub.status.busy": "2024-06-23T16:29:05.564946Z",
     "iopub.status.idle": "2024-06-23T16:29:05.579584Z",
     "shell.execute_reply": "2024-06-23T16:29:05.578569Z"
    },
    "executionInfo": {
     "elapsed": 3,
     "status": "ok",
     "timestamp": 1718879126636,
     "user": {
      "displayName": "Luis Muro",
      "userId": "05115176569393165524"
     },
     "user_tz": 240
    },
    "id": "n9__rfJBf5wY",
    "outputId": "6feea00e-222d-4ef5-bb6a-9a4e1de748fe",
    "papermill": {
     "duration": 0.032894,
     "end_time": "2024-06-23T16:29:05.581787",
     "exception": false,
     "start_time": "2024-06-23T16:29:05.548893",
     "status": "completed"
    },
    "tags": []
   },
   "outputs": [
    {
     "name": "stdout",
     "output_type": "stream",
     "text": [
      "{'escolaridade': {'quantidade': 1519, 'porcentagem': 15.0}}\n",
      "{'estado_civil': {'quantidade': 749, 'porcentagem': 7.4}}\n",
      "{'salario_anual': {'quantidade': 1112, 'porcentagem': 10.98}}\n"
     ]
    }
   ],
   "source": [
    "stats_dados_faltantes(df=df)"
   ]
  },
  {
   "cell_type": "code",
   "execution_count": 17,
   "id": "cc70b555",
   "metadata": {
    "execution": {
     "iopub.execute_input": "2024-06-23T16:29:05.613611Z",
     "iopub.status.busy": "2024-06-23T16:29:05.612791Z",
     "iopub.status.idle": "2024-06-23T16:29:05.628964Z",
     "shell.execute_reply": "2024-06-23T16:29:05.627767Z"
    },
    "executionInfo": {
     "elapsed": 497,
     "status": "ok",
     "timestamp": 1718879127131,
     "user": {
      "displayName": "Luis Muro",
      "userId": "05115176569393165524"
     },
     "user_tz": 240
    },
    "id": "hw3wipV5V9nc",
    "outputId": "19e96d67-0dbc-4253-9b19-5501d1dba974",
    "papermill": {
     "duration": 0.034538,
     "end_time": "2024-06-23T16:29:05.631270",
     "exception": false,
     "start_time": "2024-06-23T16:29:05.596732",
     "status": "completed"
    },
    "tags": []
   },
   "outputs": [
    {
     "name": "stdout",
     "output_type": "stream",
     "text": [
      "{'escolaridade': {'quantidade': 1263, 'porcentagem': 14.86}}\n",
      "{'estado_civil': {'quantidade': 620, 'porcentagem': 7.29}}\n",
      "{'salario_anual': {'quantidade': 925, 'porcentagem': 10.88}}\n"
     ]
    }
   ],
   "source": [
    "stats_dados_faltantes(df=df[df['default'] == 0])"
   ]
  },
  {
   "cell_type": "code",
   "execution_count": 18,
   "id": "3b305900",
   "metadata": {
    "execution": {
     "iopub.execute_input": "2024-06-23T16:29:05.664001Z",
     "iopub.status.busy": "2024-06-23T16:29:05.663653Z",
     "iopub.status.idle": "2024-06-23T16:29:05.675973Z",
     "shell.execute_reply": "2024-06-23T16:29:05.674795Z"
    },
    "executionInfo": {
     "elapsed": 7,
     "status": "ok",
     "timestamp": 1718879127131,
     "user": {
      "displayName": "Luis Muro",
      "userId": "05115176569393165524"
     },
     "user_tz": 240
    },
    "id": "_N71KWxHWWIe",
    "outputId": "77024a9f-12db-4953-a40c-c065915d5ebb",
    "papermill": {
     "duration": 0.031945,
     "end_time": "2024-06-23T16:29:05.678364",
     "exception": false,
     "start_time": "2024-06-23T16:29:05.646419",
     "status": "completed"
    },
    "tags": []
   },
   "outputs": [
    {
     "name": "stdout",
     "output_type": "stream",
     "text": [
      "{'escolaridade': {'quantidade': 256, 'porcentagem': 15.73}}\n",
      "{'estado_civil': {'quantidade': 129, 'porcentagem': 7.93}}\n",
      "{'salario_anual': {'quantidade': 187, 'porcentagem': 11.49}}\n"
     ]
    }
   ],
   "source": [
    "stats_dados_faltantes(df=df[df['default'] == 1])"
   ]
  },
  {
   "cell_type": "markdown",
   "id": "7c78b6dd",
   "metadata": {
    "id": "AMcSEWKy8tLQ",
    "papermill": {
     "duration": 0.014955,
     "end_time": "2024-06-23T16:29:05.710438",
     "exception": false,
     "start_time": "2024-06-23T16:29:05.695483",
     "status": "completed"
    },
    "tags": []
   },
   "source": [
    "Data wrangling - correção do schema / Correctio of the schema"
   ]
  },
  {
   "cell_type": "code",
   "execution_count": 19,
   "id": "2cb24bbf",
   "metadata": {
    "execution": {
     "iopub.execute_input": "2024-06-23T16:29:05.801054Z",
     "iopub.status.busy": "2024-06-23T16:29:05.800679Z",
     "iopub.status.idle": "2024-06-23T16:29:05.810023Z",
     "shell.execute_reply": "2024-06-23T16:29:05.808909Z"
    },
    "executionInfo": {
     "elapsed": 6,
     "status": "ok",
     "timestamp": 1718879127131,
     "user": {
      "displayName": "Luis Muro",
      "userId": "05115176569393165524"
     },
     "user_tz": 240
    },
    "id": "FkVn5HbLWogx",
    "outputId": "7234949c-6529-4ac1-80f0-76f2031c892d",
    "papermill": {
     "duration": 0.088059,
     "end_time": "2024-06-23T16:29:05.813713",
     "exception": false,
     "start_time": "2024-06-23T16:29:05.725654",
     "status": "completed"
    },
    "tags": []
   },
   "outputs": [
    {
     "data": {
      "text/plain": [
       "limite_credito          object\n",
       "valor_transacoes_12m    object\n",
       "dtype: object"
      ]
     },
     "execution_count": 19,
     "metadata": {},
     "output_type": "execute_result"
    }
   ],
   "source": [
    "# as colunas limite_credito e valor_transacoes_12m estavam sendo interpretadas como colunas categoricas: object\n",
    "# # the limite_credito and valor_transacoes_12m columns were interpreted as categorical columns: object\n",
    "df[['limite_credito', 'valor_transacoes_12m']].dtypes"
   ]
  },
  {
   "cell_type": "code",
   "execution_count": 20,
   "id": "55e53a38",
   "metadata": {
    "execution": {
     "iopub.execute_input": "2024-06-23T16:29:05.846731Z",
     "iopub.status.busy": "2024-06-23T16:29:05.846330Z",
     "iopub.status.idle": "2024-06-23T16:29:05.857133Z",
     "shell.execute_reply": "2024-06-23T16:29:05.856199Z"
    },
    "executionInfo": {
     "elapsed": 5,
     "status": "ok",
     "timestamp": 1718879127131,
     "user": {
      "displayName": "Luis Muro",
      "userId": "05115176569393165524"
     },
     "user_tz": 240
    },
    "id": "-LM3N9SpXA5i",
    "outputId": "bd02f2d4-7f86-477b-ea06-6cd1f4e475ba",
    "papermill": {
     "duration": 0.029949,
     "end_time": "2024-06-23T16:29:05.859271",
     "exception": false,
     "start_time": "2024-06-23T16:29:05.829322",
     "status": "completed"
    },
    "tags": []
   },
   "outputs": [
    {
     "data": {
      "text/html": [
       "<div>\n",
       "<style scoped>\n",
       "    .dataframe tbody tr th:only-of-type {\n",
       "        vertical-align: middle;\n",
       "    }\n",
       "\n",
       "    .dataframe tbody tr th {\n",
       "        vertical-align: top;\n",
       "    }\n",
       "\n",
       "    .dataframe thead th {\n",
       "        text-align: right;\n",
       "    }\n",
       "</style>\n",
       "<table border=\"1\" class=\"dataframe\">\n",
       "  <thead>\n",
       "    <tr style=\"text-align: right;\">\n",
       "      <th></th>\n",
       "      <th>limite_credito</th>\n",
       "      <th>valor_transacoes_12m</th>\n",
       "    </tr>\n",
       "  </thead>\n",
       "  <tbody>\n",
       "    <tr>\n",
       "      <th>0</th>\n",
       "      <td>12.691,51</td>\n",
       "      <td>1.144,90</td>\n",
       "    </tr>\n",
       "    <tr>\n",
       "      <th>1</th>\n",
       "      <td>8.256,96</td>\n",
       "      <td>1.291,45</td>\n",
       "    </tr>\n",
       "    <tr>\n",
       "      <th>2</th>\n",
       "      <td>3.418,56</td>\n",
       "      <td>1.887,72</td>\n",
       "    </tr>\n",
       "    <tr>\n",
       "      <th>3</th>\n",
       "      <td>3.313,03</td>\n",
       "      <td>1.171,56</td>\n",
       "    </tr>\n",
       "    <tr>\n",
       "      <th>4</th>\n",
       "      <td>4.716,22</td>\n",
       "      <td>816,08</td>\n",
       "    </tr>\n",
       "  </tbody>\n",
       "</table>\n",
       "</div>"
      ],
      "text/plain": [
       "  limite_credito valor_transacoes_12m\n",
       "0      12.691,51             1.144,90\n",
       "1       8.256,96             1.291,45\n",
       "2       3.418,56             1.887,72\n",
       "3       3.313,03             1.171,56\n",
       "4       4.716,22               816,08"
      ]
     },
     "execution_count": 20,
     "metadata": {},
     "output_type": "execute_result"
    }
   ],
   "source": [
    "df[['limite_credito', 'valor_transacoes_12m']].head(n=5)"
   ]
  },
  {
   "cell_type": "code",
   "execution_count": 21,
   "id": "58632271",
   "metadata": {
    "execution": {
     "iopub.execute_input": "2024-06-23T16:29:05.892343Z",
     "iopub.status.busy": "2024-06-23T16:29:05.891450Z",
     "iopub.status.idle": "2024-06-23T16:29:05.897591Z",
     "shell.execute_reply": "2024-06-23T16:29:05.896709Z"
    },
    "executionInfo": {
     "elapsed": 5,
     "status": "ok",
     "timestamp": 1718879127132,
     "user": {
      "displayName": "Luis Muro",
      "userId": "05115176569393165524"
     },
     "user_tz": 240
    },
    "id": "NALr4ptnXSdG",
    "outputId": "36e19aca-3474-4df6-b991-f3884833b238",
    "papermill": {
     "duration": 0.025188,
     "end_time": "2024-06-23T16:29:05.900067",
     "exception": false,
     "start_time": "2024-06-23T16:29:05.874879",
     "status": "completed"
    },
    "tags": []
   },
   "outputs": [
    {
     "name": "stdout",
     "output_type": "stream",
     "text": [
      "['12.691,51', '8.256,96', '3.418,56', '3.313,03', '4.716,22']\n",
      "[12691.51, 8256.96, 3418.56, 3313.03, 4716.22]\n"
     ]
    }
   ],
   "source": [
    "# criando função lambda para limpar dados, mas antes testando sua aplicação atraves do método funcional map.\n",
    "# creating a lambda function to clear the data testing its aplication through the functional map method.\n",
    "fn = lambda valor: float(valor.replace(\".\",\"\").replace(\",\",\".\")if isinstance(valor, str) else valor)\n",
    "\n",
    "valores_originais = ['12.691,51', '8.256,96', '3.418,56', '3.313,03', '4.716,22']\n",
    "valores_limpos = list(map(fn, valores_originais))\n",
    "print(valores_originais)\n",
    "print(valores_limpos)"
   ]
  },
  {
   "cell_type": "code",
   "execution_count": 22,
   "id": "e74c8423",
   "metadata": {
    "execution": {
     "iopub.execute_input": "2024-06-23T16:29:05.932966Z",
     "iopub.status.busy": "2024-06-23T16:29:05.932061Z",
     "iopub.status.idle": "2024-06-23T16:29:05.951415Z",
     "shell.execute_reply": "2024-06-23T16:29:05.950423Z"
    },
    "id": "xOCXkZF2ewju",
    "papermill": {
     "duration": 0.038249,
     "end_time": "2024-06-23T16:29:05.953753",
     "exception": false,
     "start_time": "2024-06-23T16:29:05.915504",
     "status": "completed"
    },
    "tags": []
   },
   "outputs": [],
   "source": [
    "# função lambda pronta. aplicando nas colunas de interesse\n",
    "# Lambda function ready. applying in the wished columns.\n",
    "df['valor_transacoes_12m'] = df['valor_transacoes_12m'].apply(fn)\n",
    "df['limite_credito'] = df['limite_credito'].apply(fn)"
   ]
  },
  {
   "cell_type": "code",
   "execution_count": 23,
   "id": "535e098d",
   "metadata": {
    "execution": {
     "iopub.execute_input": "2024-06-23T16:29:05.986331Z",
     "iopub.status.busy": "2024-06-23T16:29:05.985970Z",
     "iopub.status.idle": "2024-06-23T16:29:05.994184Z",
     "shell.execute_reply": "2024-06-23T16:29:05.993032Z"
    },
    "executionInfo": {
     "elapsed": 11,
     "status": "ok",
     "timestamp": 1718879127914,
     "user": {
      "displayName": "Luis Muro",
      "userId": "05115176569393165524"
     },
     "user_tz": 240
    },
    "id": "7MsvPrtEfcQ-",
    "outputId": "8c0cabcd-0889-4789-a078-252de3507ba1",
    "papermill": {
     "duration": 0.027355,
     "end_time": "2024-06-23T16:29:05.996687",
     "exception": false,
     "start_time": "2024-06-23T16:29:05.969332",
     "status": "completed"
    },
    "tags": []
   },
   "outputs": [
    {
     "name": "stdout",
     "output_type": "stream",
     "text": [
      "0         1144.90\n",
      "1         1291.45\n",
      "2         1887.72\n",
      "3         1171.56\n",
      "4          816.08\n",
      "           ...   \n",
      "10122    15476.26\n",
      "10123     8764.88\n",
      "10124    10291.78\n",
      "10125     8395.62\n",
      "10126    10294.96\n",
      "Name: valor_transacoes_12m, Length: 10127, dtype: float64\n",
      "0        12691.51\n",
      "1         8256.96\n",
      "2         3418.56\n",
      "3         3313.03\n",
      "4         4716.22\n",
      "           ...   \n",
      "10122     4003.91\n",
      "10123     4277.04\n",
      "10124     5409.16\n",
      "10125     5281.84\n",
      "10126    10388.80\n",
      "Name: limite_credito, Length: 10127, dtype: float64\n"
     ]
    }
   ],
   "source": [
    "print(df['valor_transacoes_12m'])\n",
    "print(df['limite_credito'])"
   ]
  },
  {
   "cell_type": "code",
   "execution_count": 24,
   "id": "45517824",
   "metadata": {
    "execution": {
     "iopub.execute_input": "2024-06-23T16:29:06.031016Z",
     "iopub.status.busy": "2024-06-23T16:29:06.030674Z",
     "iopub.status.idle": "2024-06-23T16:29:06.038979Z",
     "shell.execute_reply": "2024-06-23T16:29:06.038046Z"
    },
    "executionInfo": {
     "elapsed": 10,
     "status": "ok",
     "timestamp": 1718879127914,
     "user": {
      "displayName": "Luis Muro",
      "userId": "05115176569393165524"
     },
     "user_tz": 240
    },
    "id": "Th2KBwR74wej",
    "outputId": "ce66a2ea-4837-4ff2-bf74-6f0cb9b91c6f",
    "papermill": {
     "duration": 0.028,
     "end_time": "2024-06-23T16:29:06.040970",
     "exception": false,
     "start_time": "2024-06-23T16:29:06.012970",
     "status": "completed"
    },
    "tags": []
   },
   "outputs": [
    {
     "data": {
      "text/plain": [
       "limite_credito          float64\n",
       "valor_transacoes_12m    float64\n",
       "dtype: object"
      ]
     },
     "execution_count": 24,
     "metadata": {},
     "output_type": "execute_result"
    }
   ],
   "source": [
    "# Correção do Schema, transformação e limpeza dos dados.\n",
    "# Schema correction, transforming and clearing the data.\n",
    "\n",
    "df[['limite_credito', 'valor_transacoes_12m']].dtypes"
   ]
  },
  {
   "cell_type": "code",
   "execution_count": 25,
   "id": "735a4a4e",
   "metadata": {
    "execution": {
     "iopub.execute_input": "2024-06-23T16:29:06.074910Z",
     "iopub.status.busy": "2024-06-23T16:29:06.074167Z",
     "iopub.status.idle": "2024-06-23T16:29:06.085026Z",
     "shell.execute_reply": "2024-06-23T16:29:06.084065Z"
    },
    "executionInfo": {
     "elapsed": 9,
     "status": "ok",
     "timestamp": 1718879127914,
     "user": {
      "displayName": "Luis Muro",
      "userId": "05115176569393165524"
     },
     "user_tz": 240
    },
    "id": "9nXHi3Bu5EUC",
    "outputId": "935b96d2-20a6-4eea-aece-572e7102792b",
    "papermill": {
     "duration": 0.030459,
     "end_time": "2024-06-23T16:29:06.087228",
     "exception": false,
     "start_time": "2024-06-23T16:29:06.056769",
     "status": "completed"
    },
    "tags": []
   },
   "outputs": [
    {
     "data": {
      "text/html": [
       "<div>\n",
       "<style scoped>\n",
       "    .dataframe tbody tr th:only-of-type {\n",
       "        vertical-align: middle;\n",
       "    }\n",
       "\n",
       "    .dataframe tbody tr th {\n",
       "        vertical-align: top;\n",
       "    }\n",
       "\n",
       "    .dataframe thead th {\n",
       "        text-align: right;\n",
       "    }\n",
       "</style>\n",
       "<table border=\"1\" class=\"dataframe\">\n",
       "  <thead>\n",
       "    <tr style=\"text-align: right;\">\n",
       "      <th></th>\n",
       "      <th>limite_credito</th>\n",
       "      <th>valor_transacoes_12m</th>\n",
       "    </tr>\n",
       "  </thead>\n",
       "  <tbody>\n",
       "    <tr>\n",
       "      <th>0</th>\n",
       "      <td>12691.51</td>\n",
       "      <td>1144.90</td>\n",
       "    </tr>\n",
       "    <tr>\n",
       "      <th>1</th>\n",
       "      <td>8256.96</td>\n",
       "      <td>1291.45</td>\n",
       "    </tr>\n",
       "    <tr>\n",
       "      <th>2</th>\n",
       "      <td>3418.56</td>\n",
       "      <td>1887.72</td>\n",
       "    </tr>\n",
       "    <tr>\n",
       "      <th>3</th>\n",
       "      <td>3313.03</td>\n",
       "      <td>1171.56</td>\n",
       "    </tr>\n",
       "    <tr>\n",
       "      <th>4</th>\n",
       "      <td>4716.22</td>\n",
       "      <td>816.08</td>\n",
       "    </tr>\n",
       "  </tbody>\n",
       "</table>\n",
       "</div>"
      ],
      "text/plain": [
       "   limite_credito  valor_transacoes_12m\n",
       "0        12691.51               1144.90\n",
       "1         8256.96               1291.45\n",
       "2         3418.56               1887.72\n",
       "3         3313.03               1171.56\n",
       "4         4716.22                816.08"
      ]
     },
     "execution_count": 25,
     "metadata": {},
     "output_type": "execute_result"
    }
   ],
   "source": [
    "df[['limite_credito', 'valor_transacoes_12m']].head(n=5)"
   ]
  },
  {
   "cell_type": "code",
   "execution_count": 26,
   "id": "8fc51049",
   "metadata": {
    "execution": {
     "iopub.execute_input": "2024-06-23T16:29:06.121167Z",
     "iopub.status.busy": "2024-06-23T16:29:06.120391Z",
     "iopub.status.idle": "2024-06-23T16:29:06.128432Z",
     "shell.execute_reply": "2024-06-23T16:29:06.127391Z"
    },
    "executionInfo": {
     "elapsed": 9,
     "status": "ok",
     "timestamp": 1718879127915,
     "user": {
      "displayName": "Luis Muro",
      "userId": "05115176569393165524"
     },
     "user_tz": 240
    },
    "id": "D4paNrXU5JxX",
    "outputId": "38fa298f-e3c1-464a-ae34-e9083e1c5bb6",
    "papermill": {
     "duration": 0.027219,
     "end_time": "2024-06-23T16:29:06.130440",
     "exception": false,
     "start_time": "2024-06-23T16:29:06.103221",
     "status": "completed"
    },
    "tags": []
   },
   "outputs": [
    {
     "data": {
      "text/plain": [
       "id                           int64\n",
       "default                      int64\n",
       "idade                        int64\n",
       "sexo                        object\n",
       "dependentes                  int64\n",
       "escolaridade                object\n",
       "estado_civil                object\n",
       "salario_anual               object\n",
       "tipo_cartao                 object\n",
       "meses_de_relacionamento      int64\n",
       "qtd_produtos                 int64\n",
       "iteracoes_12m                int64\n",
       "meses_inativo_12m            int64\n",
       "limite_credito             float64\n",
       "valor_transacoes_12m       float64\n",
       "qtd_transacoes_12m           int64\n",
       "dtype: object"
      ]
     },
     "execution_count": 26,
     "metadata": {},
     "output_type": "execute_result"
    }
   ],
   "source": [
    "df.dtypes"
   ]
  },
  {
   "cell_type": "code",
   "execution_count": 27,
   "id": "a87318a1",
   "metadata": {
    "execution": {
     "iopub.execute_input": "2024-06-23T16:29:06.164736Z",
     "iopub.status.busy": "2024-06-23T16:29:06.163763Z",
     "iopub.status.idle": "2024-06-23T16:29:06.187275Z",
     "shell.execute_reply": "2024-06-23T16:29:06.186330Z"
    },
    "executionInfo": {
     "elapsed": 7,
     "status": "ok",
     "timestamp": 1718879127915,
     "user": {
      "displayName": "Luis Muro",
      "userId": "05115176569393165524"
     },
     "user_tz": 240
    },
    "id": "w8RoeJ7-6v8x",
    "outputId": "7d2ddf63-6226-481a-a9f3-5dcd68b08f12",
    "papermill": {
     "duration": 0.042749,
     "end_time": "2024-06-23T16:29:06.189377",
     "exception": false,
     "start_time": "2024-06-23T16:29:06.146628",
     "status": "completed"
    },
    "tags": []
   },
   "outputs": [
    {
     "data": {
      "text/html": [
       "<div>\n",
       "<style scoped>\n",
       "    .dataframe tbody tr th:only-of-type {\n",
       "        vertical-align: middle;\n",
       "    }\n",
       "\n",
       "    .dataframe tbody tr th {\n",
       "        vertical-align: top;\n",
       "    }\n",
       "\n",
       "    .dataframe thead th {\n",
       "        text-align: right;\n",
       "    }\n",
       "</style>\n",
       "<table border=\"1\" class=\"dataframe\">\n",
       "  <thead>\n",
       "    <tr style=\"text-align: right;\">\n",
       "      <th></th>\n",
       "      <th>count</th>\n",
       "      <th>unique</th>\n",
       "      <th>top</th>\n",
       "      <th>freq</th>\n",
       "    </tr>\n",
       "  </thead>\n",
       "  <tbody>\n",
       "    <tr>\n",
       "      <th>sexo</th>\n",
       "      <td>10127</td>\n",
       "      <td>2</td>\n",
       "      <td>F</td>\n",
       "      <td>5358</td>\n",
       "    </tr>\n",
       "    <tr>\n",
       "      <th>escolaridade</th>\n",
       "      <td>8608</td>\n",
       "      <td>5</td>\n",
       "      <td>mestrado</td>\n",
       "      <td>3128</td>\n",
       "    </tr>\n",
       "    <tr>\n",
       "      <th>estado_civil</th>\n",
       "      <td>9378</td>\n",
       "      <td>3</td>\n",
       "      <td>casado</td>\n",
       "      <td>4687</td>\n",
       "    </tr>\n",
       "    <tr>\n",
       "      <th>salario_anual</th>\n",
       "      <td>9015</td>\n",
       "      <td>5</td>\n",
       "      <td>menos que $40K</td>\n",
       "      <td>3561</td>\n",
       "    </tr>\n",
       "    <tr>\n",
       "      <th>tipo_cartao</th>\n",
       "      <td>10127</td>\n",
       "      <td>4</td>\n",
       "      <td>blue</td>\n",
       "      <td>9436</td>\n",
       "    </tr>\n",
       "  </tbody>\n",
       "</table>\n",
       "</div>"
      ],
      "text/plain": [
       "               count unique             top  freq\n",
       "sexo           10127      2               F  5358\n",
       "escolaridade    8608      5        mestrado  3128\n",
       "estado_civil    9378      3          casado  4687\n",
       "salario_anual   9015      5  menos que $40K  3561\n",
       "tipo_cartao    10127      4            blue  9436"
      ]
     },
     "execution_count": 27,
     "metadata": {},
     "output_type": "execute_result"
    }
   ],
   "source": [
    "df.select_dtypes('object').describe().transpose()"
   ]
  },
  {
   "cell_type": "code",
   "execution_count": 28,
   "id": "756421a7",
   "metadata": {
    "execution": {
     "iopub.execute_input": "2024-06-23T16:29:06.224002Z",
     "iopub.status.busy": "2024-06-23T16:29:06.223194Z",
     "iopub.status.idle": "2024-06-23T16:29:06.261335Z",
     "shell.execute_reply": "2024-06-23T16:29:06.260375Z"
    },
    "executionInfo": {
     "elapsed": 456,
     "status": "ok",
     "timestamp": 1718879128365,
     "user": {
      "displayName": "Luis Muro",
      "userId": "05115176569393165524"
     },
     "user_tz": 240
    },
    "id": "T_l2eLtO62jn",
    "outputId": "f9194767-cdd6-4f4b-f9fb-94c09e691272",
    "papermill": {
     "duration": 0.057915,
     "end_time": "2024-06-23T16:29:06.263607",
     "exception": false,
     "start_time": "2024-06-23T16:29:06.205692",
     "status": "completed"
    },
    "tags": []
   },
   "outputs": [
    {
     "data": {
      "text/html": [
       "<div>\n",
       "<style scoped>\n",
       "    .dataframe tbody tr th:only-of-type {\n",
       "        vertical-align: middle;\n",
       "    }\n",
       "\n",
       "    .dataframe tbody tr th {\n",
       "        vertical-align: top;\n",
       "    }\n",
       "\n",
       "    .dataframe thead th {\n",
       "        text-align: right;\n",
       "    }\n",
       "</style>\n",
       "<table border=\"1\" class=\"dataframe\">\n",
       "  <thead>\n",
       "    <tr style=\"text-align: right;\">\n",
       "      <th></th>\n",
       "      <th>count</th>\n",
       "      <th>mean</th>\n",
       "      <th>std</th>\n",
       "      <th>min</th>\n",
       "      <th>25%</th>\n",
       "      <th>50%</th>\n",
       "      <th>75%</th>\n",
       "      <th>max</th>\n",
       "    </tr>\n",
       "  </thead>\n",
       "  <tbody>\n",
       "    <tr>\n",
       "      <th>default</th>\n",
       "      <td>10127.0</td>\n",
       "      <td>0.160660</td>\n",
       "      <td>0.367235</td>\n",
       "      <td>0.00</td>\n",
       "      <td>0.000</td>\n",
       "      <td>0.00</td>\n",
       "      <td>0.000</td>\n",
       "      <td>1.00</td>\n",
       "    </tr>\n",
       "    <tr>\n",
       "      <th>idade</th>\n",
       "      <td>10127.0</td>\n",
       "      <td>46.325960</td>\n",
       "      <td>8.016814</td>\n",
       "      <td>26.00</td>\n",
       "      <td>41.000</td>\n",
       "      <td>46.00</td>\n",
       "      <td>52.000</td>\n",
       "      <td>73.00</td>\n",
       "    </tr>\n",
       "    <tr>\n",
       "      <th>dependentes</th>\n",
       "      <td>10127.0</td>\n",
       "      <td>2.346203</td>\n",
       "      <td>1.298908</td>\n",
       "      <td>0.00</td>\n",
       "      <td>1.000</td>\n",
       "      <td>2.00</td>\n",
       "      <td>3.000</td>\n",
       "      <td>5.00</td>\n",
       "    </tr>\n",
       "    <tr>\n",
       "      <th>meses_de_relacionamento</th>\n",
       "      <td>10127.0</td>\n",
       "      <td>35.928409</td>\n",
       "      <td>7.986416</td>\n",
       "      <td>13.00</td>\n",
       "      <td>31.000</td>\n",
       "      <td>36.00</td>\n",
       "      <td>40.000</td>\n",
       "      <td>56.00</td>\n",
       "    </tr>\n",
       "    <tr>\n",
       "      <th>qtd_produtos</th>\n",
       "      <td>10127.0</td>\n",
       "      <td>3.812580</td>\n",
       "      <td>1.554408</td>\n",
       "      <td>1.00</td>\n",
       "      <td>3.000</td>\n",
       "      <td>4.00</td>\n",
       "      <td>5.000</td>\n",
       "      <td>6.00</td>\n",
       "    </tr>\n",
       "    <tr>\n",
       "      <th>iteracoes_12m</th>\n",
       "      <td>10127.0</td>\n",
       "      <td>2.455317</td>\n",
       "      <td>1.106225</td>\n",
       "      <td>0.00</td>\n",
       "      <td>2.000</td>\n",
       "      <td>2.00</td>\n",
       "      <td>3.000</td>\n",
       "      <td>6.00</td>\n",
       "    </tr>\n",
       "    <tr>\n",
       "      <th>meses_inativo_12m</th>\n",
       "      <td>10127.0</td>\n",
       "      <td>2.341167</td>\n",
       "      <td>1.010622</td>\n",
       "      <td>0.00</td>\n",
       "      <td>2.000</td>\n",
       "      <td>2.00</td>\n",
       "      <td>3.000</td>\n",
       "      <td>6.00</td>\n",
       "    </tr>\n",
       "    <tr>\n",
       "      <th>limite_credito</th>\n",
       "      <td>10127.0</td>\n",
       "      <td>8632.440165</td>\n",
       "      <td>9088.788041</td>\n",
       "      <td>1438.00</td>\n",
       "      <td>2555.355</td>\n",
       "      <td>4549.42</td>\n",
       "      <td>11068.175</td>\n",
       "      <td>34516.99</td>\n",
       "    </tr>\n",
       "    <tr>\n",
       "      <th>valor_transacoes_12m</th>\n",
       "      <td>10127.0</td>\n",
       "      <td>4404.583047</td>\n",
       "      <td>3397.128078</td>\n",
       "      <td>510.16</td>\n",
       "      <td>2155.825</td>\n",
       "      <td>3899.59</td>\n",
       "      <td>4741.310</td>\n",
       "      <td>18484.93</td>\n",
       "    </tr>\n",
       "    <tr>\n",
       "      <th>qtd_transacoes_12m</th>\n",
       "      <td>10127.0</td>\n",
       "      <td>64.858695</td>\n",
       "      <td>23.472570</td>\n",
       "      <td>10.00</td>\n",
       "      <td>45.000</td>\n",
       "      <td>67.00</td>\n",
       "      <td>81.000</td>\n",
       "      <td>139.00</td>\n",
       "    </tr>\n",
       "  </tbody>\n",
       "</table>\n",
       "</div>"
      ],
      "text/plain": [
       "                           count         mean          std      min       25%  \\\n",
       "default                  10127.0     0.160660     0.367235     0.00     0.000   \n",
       "idade                    10127.0    46.325960     8.016814    26.00    41.000   \n",
       "dependentes              10127.0     2.346203     1.298908     0.00     1.000   \n",
       "meses_de_relacionamento  10127.0    35.928409     7.986416    13.00    31.000   \n",
       "qtd_produtos             10127.0     3.812580     1.554408     1.00     3.000   \n",
       "iteracoes_12m            10127.0     2.455317     1.106225     0.00     2.000   \n",
       "meses_inativo_12m        10127.0     2.341167     1.010622     0.00     2.000   \n",
       "limite_credito           10127.0  8632.440165  9088.788041  1438.00  2555.355   \n",
       "valor_transacoes_12m     10127.0  4404.583047  3397.128078   510.16  2155.825   \n",
       "qtd_transacoes_12m       10127.0    64.858695    23.472570    10.00    45.000   \n",
       "\n",
       "                             50%        75%       max  \n",
       "default                     0.00      0.000      1.00  \n",
       "idade                      46.00     52.000     73.00  \n",
       "dependentes                 2.00      3.000      5.00  \n",
       "meses_de_relacionamento    36.00     40.000     56.00  \n",
       "qtd_produtos                4.00      5.000      6.00  \n",
       "iteracoes_12m               2.00      3.000      6.00  \n",
       "meses_inativo_12m           2.00      3.000      6.00  \n",
       "limite_credito           4549.42  11068.175  34516.99  \n",
       "valor_transacoes_12m     3899.59   4741.310  18484.93  \n",
       "qtd_transacoes_12m         67.00     81.000    139.00  "
      ]
     },
     "execution_count": 28,
     "metadata": {},
     "output_type": "execute_result"
    }
   ],
   "source": [
    "df.drop('id', axis=1).select_dtypes('number').describe().transpose()"
   ]
  },
  {
   "cell_type": "code",
   "execution_count": 29,
   "id": "7e419962",
   "metadata": {
    "execution": {
     "iopub.execute_input": "2024-06-23T16:29:06.298534Z",
     "iopub.status.busy": "2024-06-23T16:29:06.297685Z",
     "iopub.status.idle": "2024-06-23T16:29:06.306974Z",
     "shell.execute_reply": "2024-06-23T16:29:06.306186Z"
    },
    "id": "yBp7ZYSb7bQh",
    "papermill": {
     "duration": 0.028967,
     "end_time": "2024-06-23T16:29:06.308944",
     "exception": false,
     "start_time": "2024-06-23T16:29:06.279977",
     "status": "completed"
    },
    "tags": []
   },
   "outputs": [],
   "source": [
    "# Removendo dados faltantes\n",
    "# Removing missing data\n",
    "\n",
    "df.dropna(inplace=True)"
   ]
  },
  {
   "cell_type": "code",
   "execution_count": 30,
   "id": "421f0b94",
   "metadata": {
    "execution": {
     "iopub.execute_input": "2024-06-23T16:29:06.344268Z",
     "iopub.status.busy": "2024-06-23T16:29:06.343299Z",
     "iopub.status.idle": "2024-06-23T16:29:06.349844Z",
     "shell.execute_reply": "2024-06-23T16:29:06.348854Z"
    },
    "executionInfo": {
     "elapsed": 10,
     "status": "ok",
     "timestamp": 1718879128366,
     "user": {
      "displayName": "Luis Muro",
      "userId": "05115176569393165524"
     },
     "user_tz": 240
    },
    "id": "LvbFh48q-A3w",
    "outputId": "43108c14-1d43-4878-ba03-44d5cb9eb046",
    "papermill": {
     "duration": 0.026684,
     "end_time": "2024-06-23T16:29:06.352047",
     "exception": false,
     "start_time": "2024-06-23T16:29:06.325363",
     "status": "completed"
    },
    "tags": []
   },
   "outputs": [
    {
     "data": {
      "text/plain": [
       "(7081, 16)"
      ]
     },
     "execution_count": 30,
     "metadata": {},
     "output_type": "execute_result"
    }
   ],
   "source": [
    "# Analisando a estrutura dos dados sem os dados faltantes\n",
    "# Analyzing the structure of the data updated with no missing data\n",
    "\n",
    "df.shape"
   ]
  },
  {
   "cell_type": "code",
   "execution_count": 31,
   "id": "99fe47be",
   "metadata": {
    "execution": {
     "iopub.execute_input": "2024-06-23T16:29:06.388123Z",
     "iopub.status.busy": "2024-06-23T16:29:06.387407Z",
     "iopub.status.idle": "2024-06-23T16:29:06.396046Z",
     "shell.execute_reply": "2024-06-23T16:29:06.395058Z"
    },
    "executionInfo": {
     "elapsed": 8,
     "status": "ok",
     "timestamp": 1718879128366,
     "user": {
      "displayName": "Luis Muro",
      "userId": "05115176569393165524"
     },
     "user_tz": 240
    },
    "id": "bsa0oQFw-FHl",
    "outputId": "1d0b828b-ceb1-4ee9-844a-7610f1144ad1",
    "papermill": {
     "duration": 0.029135,
     "end_time": "2024-06-23T16:29:06.398259",
     "exception": false,
     "start_time": "2024-06-23T16:29:06.369124",
     "status": "completed"
    },
    "tags": []
   },
   "outputs": [
    {
     "data": {
      "text/plain": [
       "(5968, 16)"
      ]
     },
     "execution_count": 31,
     "metadata": {},
     "output_type": "execute_result"
    }
   ],
   "source": [
    "df[df['default'] == 0].shape"
   ]
  },
  {
   "cell_type": "code",
   "execution_count": 32,
   "id": "d14b5892",
   "metadata": {
    "execution": {
     "iopub.execute_input": "2024-06-23T16:29:06.434499Z",
     "iopub.status.busy": "2024-06-23T16:29:06.434053Z",
     "iopub.status.idle": "2024-06-23T16:29:06.442066Z",
     "shell.execute_reply": "2024-06-23T16:29:06.441036Z"
    },
    "executionInfo": {
     "elapsed": 7,
     "status": "ok",
     "timestamp": 1718879128366,
     "user": {
      "displayName": "Luis Muro",
      "userId": "05115176569393165524"
     },
     "user_tz": 240
    },
    "id": "HPySRV42-Mim",
    "outputId": "3cbdeaef-078c-4e07-d3aa-f3b272f4902f",
    "papermill": {
     "duration": 0.028544,
     "end_time": "2024-06-23T16:29:06.444242",
     "exception": false,
     "start_time": "2024-06-23T16:29:06.415698",
     "status": "completed"
    },
    "tags": []
   },
   "outputs": [
    {
     "data": {
      "text/plain": [
       "(1113, 16)"
      ]
     },
     "execution_count": 32,
     "metadata": {},
     "output_type": "execute_result"
    }
   ],
   "source": [
    "df[df['default'] == 1].shape"
   ]
  },
  {
   "cell_type": "code",
   "execution_count": 33,
   "id": "29788fbf",
   "metadata": {
    "execution": {
     "iopub.execute_input": "2024-06-23T16:29:06.479426Z",
     "iopub.status.busy": "2024-06-23T16:29:06.479059Z",
     "iopub.status.idle": "2024-06-23T16:29:06.486755Z",
     "shell.execute_reply": "2024-06-23T16:29:06.485970Z"
    },
    "id": "VZWEUwG9-QG0",
    "papermill": {
     "duration": 0.027487,
     "end_time": "2024-06-23T16:29:06.488694",
     "exception": false,
     "start_time": "2024-06-23T16:29:06.461207",
     "status": "completed"
    },
    "tags": []
   },
   "outputs": [],
   "source": [
    "qtd_total_novo, _ = df.shape\n",
    "qtd_adimplentes_novo, _ = df[df['default'] == 0].shape\n",
    "qtd_inadimplentes_novo, _ = df[df['default'] == 1].shape"
   ]
  },
  {
   "cell_type": "code",
   "execution_count": 34,
   "id": "3b522a2c",
   "metadata": {
    "execution": {
     "iopub.execute_input": "2024-06-23T16:29:06.524150Z",
     "iopub.status.busy": "2024-06-23T16:29:06.523497Z",
     "iopub.status.idle": "2024-06-23T16:29:06.529527Z",
     "shell.execute_reply": "2024-06-23T16:29:06.528608Z"
    },
    "executionInfo": {
     "elapsed": 6,
     "status": "ok",
     "timestamp": 1718879128366,
     "user": {
      "displayName": "Luis Muro",
      "userId": "05115176569393165524"
     },
     "user_tz": 240
    },
    "id": "sUgFyOtM-f12",
    "outputId": "c198fffa-c975-4f89-e246-c134517ed206",
    "papermill": {
     "duration": 0.026165,
     "end_time": "2024-06-23T16:29:06.531670",
     "exception": false,
     "start_time": "2024-06-23T16:29:06.505505",
     "status": "completed"
    },
    "tags": []
   },
   "outputs": [
    {
     "name": "stdout",
     "output_type": "stream",
     "text": [
      "A proporção de adimplentes ativos é de 83.93%\n",
      "A nova proporcao de clientes adimplentes é de 84.28%\n",
      "\n",
      "A proporção de clientes inadimplentes é de 16.07%\n",
      "A nova proporção de clientes inadimplentes é de 15.72%\n"
     ]
    }
   ],
   "source": [
    "print(f'A proporção de adimplentes ativos é de {round(100 * qtd_adimplentes / qtd_total,2)}%')\n",
    "print(f'A nova proporcao de clientes adimplentes é de {round(100 * qtd_adimplentes_novo / qtd_total_novo,2)}%')\n",
    "print(\"\")\n",
    "print(f'A proporção de clientes inadimplentes é de {round(100 * qtd_inadimplentes / qtd_total, 2)}%')\n",
    "print(f'A nova proporção de clientes inadimplentes é de {round(100* qtd_inadimplentes_novo / qtd_total_novo,2)}%')"
   ]
  },
  {
   "cell_type": "code",
   "execution_count": 35,
   "id": "cdea3e8e",
   "metadata": {
    "execution": {
     "iopub.execute_input": "2024-06-23T16:29:06.567158Z",
     "iopub.status.busy": "2024-06-23T16:29:06.566476Z",
     "iopub.status.idle": "2024-06-23T16:29:07.635976Z",
     "shell.execute_reply": "2024-06-23T16:29:07.635004Z"
    },
    "id": "NB4wy18mugey",
    "papermill": {
     "duration": 1.089987,
     "end_time": "2024-06-23T16:29:07.638387",
     "exception": false,
     "start_time": "2024-06-23T16:29:06.548400",
     "status": "completed"
    },
    "tags": []
   },
   "outputs": [],
   "source": [
    "import seaborn as sns\n",
    "import matplotlib.pyplot as plt\n",
    "\n",
    "sns.set_style(\"whitegrid\") # cria um padrão de estilo de gráfico / creating graph pattern style"
   ]
  },
  {
   "cell_type": "code",
   "execution_count": 36,
   "id": "a59332c4",
   "metadata": {
    "execution": {
     "iopub.execute_input": "2024-06-23T16:29:07.674886Z",
     "iopub.status.busy": "2024-06-23T16:29:07.674491Z",
     "iopub.status.idle": "2024-06-23T16:29:07.681512Z",
     "shell.execute_reply": "2024-06-23T16:29:07.680747Z"
    },
    "id": "buWB0RVtuoFk",
    "papermill": {
     "duration": 0.028384,
     "end_time": "2024-06-23T16:29:07.683818",
     "exception": false,
     "start_time": "2024-06-23T16:29:07.655434",
     "status": "completed"
    },
    "tags": []
   },
   "outputs": [],
   "source": [
    "df_adimplente = df[df['default'] == 0]\n",
    "df_inadimplente = df[df['default'] == 1]"
   ]
  },
  {
   "cell_type": "code",
   "execution_count": 37,
   "id": "7e565a42",
   "metadata": {
    "execution": {
     "iopub.execute_input": "2024-06-23T16:29:07.721152Z",
     "iopub.status.busy": "2024-06-23T16:29:07.720159Z",
     "iopub.status.idle": "2024-06-23T16:29:08.696375Z",
     "shell.execute_reply": "2024-06-23T16:29:08.695284Z"
    },
    "executionInfo": {
     "elapsed": 1510,
     "status": "ok",
     "timestamp": 1718879131697,
     "user": {
      "displayName": "Luis Muro",
      "userId": "05115176569393165524"
     },
     "user_tz": 240
    },
    "id": "yOG5paJUKmoz",
    "outputId": "e5a911f4-5a5f-43e5-ca28-3a7d6db3d1c4",
    "papermill": {
     "duration": 0.997026,
     "end_time": "2024-06-23T16:29:08.699106",
     "exception": false,
     "start_time": "2024-06-23T16:29:07.702080",
     "status": "completed"
    },
    "tags": []
   },
   "outputs": [
    {
     "data": {
      "image/png": "[encoded data removed]",
      "text/plain": [
       "<Figure size 1800x500 with 3 Axes>"
      ]
     },
     "metadata": {},
     "output_type": "display_data"
    }
   ],
   "source": [
    "import pandas as pd\n",
    "import matplotlib.pyplot as plt\n",
    "import seaborn as sns\n",
    "\n",
    "# Visualizando a relação entre a variavel resposta e a escolaridade\n",
    "# Visualizing the relation among the default variable with scholarship\n",
    "\n",
    "# Definindo as variáveis / Defining variables\n",
    "coluna = 'escolaridade'\n",
    "titulos = ['Escolaridade dos Clientes', 'Escolaridades dos Clientes Adimplentes', 'Escolaridade dos Clientes Inadimplentes']\n",
    "\n",
    "# Criando as variáveis para armazenar a figura e os eixos da figura\n",
    "# Creating the variable to store the figure and its axis.\n",
    "figura, eixos = plt.subplots(1, 3, figsize=(18, 5), sharex=True)\n",
    "\n",
    "# Definindo o eixo inicial e o valor máximo de y\n",
    "# Defining initial axis and max value of y\n",
    "eixo = 0\n",
    "max_y = 0\n",
    "\n",
    "# Loop para percorrer os DataFrames e criar os gráficos\n",
    "# Loop to run through the DataFrames and create the graphics\n",
    "for dataframe in [df, df_adimplente, df_inadimplente]:\n",
    "  df_to_plot = dataframe[coluna].value_counts().to_frame(name='frequencia_absoluta')\n",
    "  df_to_plot[coluna] = df_to_plot.index\n",
    "  df_to_plot.reset_index(drop=True, inplace=True)\n",
    "  df_to_plot.sort_values(by=[coluna], inplace=True)\n",
    "\n",
    "  # Seaborn configura os plots\n",
    "  # Seaborn set the plots\n",
    "  f = sns.barplot(x=df_to_plot[coluna], y=df_to_plot['frequencia_absoluta'], ax=eixos[eixo])\n",
    "  f.set(title=titulos[eixo], xlabel=coluna.capitalize(), ylabel='Frequência absoluta')\n",
    "  f.set_xticklabels(f.get_xticklabels(), rotation=90)\n",
    "\n",
    "  # Atualiza o valor máximo de y para manter a escala consistente entre os gráficos\n",
    "  # Update the max value of y to keep the scale consistent among other graphs\n",
    "  _, max_y_f = f.get_ylim()\n",
    "  max_y = max_y_f if max_y_f > max_y else max_y\n",
    "  f.set(ylim=(0, max_y))\n",
    "\n",
    "  eixo += 1\n",
    "\n",
    "# Exibe a figura\n",
    "# Displays the figure\n",
    "plt.tight_layout()\n",
    "figura.show()"
   ]
  },
  {
   "cell_type": "code",
   "execution_count": 38,
   "id": "f42d2481",
   "metadata": {
    "execution": {
     "iopub.execute_input": "2024-06-23T16:29:08.740721Z",
     "iopub.status.busy": "2024-06-23T16:29:08.739902Z",
     "iopub.status.idle": "2024-06-23T16:29:09.710764Z",
     "shell.execute_reply": "2024-06-23T16:29:09.709622Z"
    },
    "executionInfo": {
     "elapsed": 1256,
     "status": "ok",
     "timestamp": 1718879132949,
     "user": {
      "displayName": "Luis Muro",
      "userId": "05115176569393165524"
     },
     "user_tz": 240
    },
    "id": "TxkIetpPMj1f",
    "outputId": "82afd403-9047-4671-b63a-e89f1a98d134",
    "papermill": {
     "duration": 0.994315,
     "end_time": "2024-06-23T16:29:09.713672",
     "exception": false,
     "start_time": "2024-06-23T16:29:08.719357",
     "status": "completed"
    },
    "tags": []
   },
   "outputs": [
    {
     "data": {
      "image/png": "[encoded data removed]",
      "text/plain": [
       "<Figure size 1800x500 with 3 Axes>"
      ]
     },
     "metadata": {},
     "output_type": "display_data"
    }
   ],
   "source": [
    "# Visualizando a relação entre variável resposta default com o salario anual\n",
    "# Visualizing the relation among the default variable with anual salary\n",
    "\n",
    "# Definindo as variáveis\n",
    "# Deifining variables\n",
    "coluna = 'salario_anual'\n",
    "titulos = ['Salario anual dos Clientes', 'Salario anual dos Clientes Adimplentes','Salario anual dos clientes Inadimplentes']\n",
    "\n",
    "# Definindo o eixo inicial e o valor máximo de y\n",
    "# Defining the initial axis and max value of y\n",
    "eixo = 0\n",
    "max_y = 0\n",
    "\n",
    "# Criando as variáveis para armazenar a figura e os eixos da figura\n",
    "# Creating the variable to store the figure and its axis.\n",
    "\n",
    "figura, eixos = plt.subplots(1,3, figsize=(18,5), sharex=True)\n",
    "\n",
    "# Loop para percorrer os DataFrames e criar os gráficos\n",
    "# Loop to run through the DataFrames and create the graphs\n",
    "for dataframe in [df_adimplente, df_inadimplente, df]:\n",
    "  df_to_plot = dataframe[coluna].value_counts().to_frame(name='frequencia_absoluta')\n",
    "  df_to_plot[coluna] = df_to_plot.index\n",
    "  df_to_plot.reset_index(drop=True, inplace=True)\n",
    "  df_to_plot.sort_values(by=[coluna], inplace=True)\n",
    "\n",
    "  # Seaborn configura os plots\n",
    "  # Seaborn set the plots\n",
    "  f = sns.barplot(x=df_to_plot[coluna], y=df_to_plot['frequencia_absoluta'], ax=eixos[eixo])\n",
    "  f.set(title=titulos[eixo], xlabel=coluna.capitalize(), ylabel='Frequência absoluta')\n",
    "  f.set_xticklabels(f.get_xticklabels(), rotation=90)\n",
    "\n",
    "  # Atualiza o valor máximo de y para manter a escala consistente entre os gráficos\n",
    "  # Update the max value of y to keep the scale consistent among other graphs\n",
    "  _, max_y_f = f.get_ylim()\n",
    "  max_y = max_y_f if max_y_f > max_y else max_y\n",
    "  f.set(ylim=(0, max_y))\n",
    "\n",
    "  eixo += 1\n",
    "\n",
    "# Exibe a figura\n",
    "# Displays the figure\n",
    "plt.tight_layout()\n",
    "figura.show()"
   ]
  },
  {
   "cell_type": "markdown",
   "id": "ef28a3f9",
   "metadata": {
    "id": "kaKeK8dV963s",
    "papermill": {
     "duration": 0.017942,
     "end_time": "2024-06-23T16:29:09.751152",
     "exception": false,
     "start_time": "2024-06-23T16:29:09.733210",
     "status": "completed"
    },
    "tags": []
   },
   "source": []
  },
  {
   "cell_type": "code",
   "execution_count": 39,
   "id": "5f27791f",
   "metadata": {
    "execution": {
     "iopub.execute_input": "2024-06-23T16:29:09.788735Z",
     "iopub.status.busy": "2024-06-23T16:29:09.788349Z",
     "iopub.status.idle": "2024-06-23T16:29:10.589786Z",
     "shell.execute_reply": "2024-06-23T16:29:10.588717Z"
    },
    "executionInfo": {
     "elapsed": 1181,
     "status": "ok",
     "timestamp": 1718879134127,
     "user": {
      "displayName": "Luis Muro",
      "userId": "05115176569393165524"
     },
     "user_tz": 240
    },
    "id": "ppM1zb51P58w",
    "outputId": "ae67c42f-291f-4c78-a0c4-f03638ffb70b",
    "papermill": {
     "duration": 0.823187,
     "end_time": "2024-06-23T16:29:10.592315",
     "exception": false,
     "start_time": "2024-06-23T16:29:09.769128",
     "status": "completed"
    },
    "tags": []
   },
   "outputs": [
    {
     "data": {
      "image/png": "[encoded data removed]",
      "text/plain": [
       "<Figure size 1800x500 with 3 Axes>"
      ]
     },
     "metadata": {},
     "output_type": "display_data"
    }
   ],
   "source": [
    "# Visualizando a relação entre variável resposta default com o Estado civil dos clientes**\n",
    "# Visualizing the relationship between the default response variable and the marital status of clients**\n",
    "\n",
    "# Definindo as variáveis\n",
    "# Deifining variables\n",
    "coluna = 'estado_civil'\n",
    "titulos = ['Estado civil dos Clientes', 'Estado civil dos Clientes Adimplentes','Estado civil dos Clientes Inadimplentes']\n",
    "\n",
    "# Definindo o eixo inicial e o valor máximo de y\n",
    "# Defining the initial axis and max value of y\n",
    "eixo = 0\n",
    "max_y = 0\n",
    "\n",
    "# Criando as variáveis para armazenar a figura e os eixos da figura\n",
    "# Creating the variable to store the figure and its axis.\n",
    "figura, eixos = plt.subplots(1,3, figsize=(18,5), sharex=True)\n",
    "\n",
    "# Loop para percorrer os DataFrames e criar os gráficos\n",
    "# Loop to run through the DataFrames and create the graphs\n",
    "for dataframe in [df_adimplente, df_inadimplente, df]:\n",
    "  df_to_plot = dataframe[coluna].value_counts().to_frame(name='frequencia_absoluta')\n",
    "  df_to_plot[coluna] = df_to_plot.index\n",
    "  df_to_plot.reset_index(drop=True, inplace=True)\n",
    "  df_to_plot.sort_values(by=[coluna], inplace=True)\n",
    "\n",
    "  # Seaborn configura os plots\n",
    "  # Seaborn set the plots\n",
    "  f = sns.barplot(x=df_to_plot[coluna], y=df_to_plot['frequencia_absoluta'], ax=eixos[eixo])\n",
    "  f.set(title=titulos[eixo], xlabel=coluna.capitalize(), ylabel='Frequência absoluta')\n",
    "  f.set_xticklabels(f.get_xticklabels(), rotation=90)\n",
    "\n",
    "# Atualiza o valor máximo de y para manter a escala consistente entre os gráficos\n",
    "# Update the max value of y to keep the scale consistent among other graphs\n",
    "  _, max_y_f = f.get_ylim()\n",
    "  max_y = max_y_f if max_y_f > max_y else max_y\n",
    "  f.set(ylim=(0, max_y))\n",
    "\n",
    "  eixo += 1\n",
    "\n",
    "# Exibe a figura\n",
    "# Displays the figure\n",
    "plt.tight_layout()\n",
    "figura.show()"
   ]
  },
  {
   "cell_type": "code",
   "execution_count": 40,
   "id": "cfa55473",
   "metadata": {
    "execution": {
     "iopub.execute_input": "2024-06-23T16:29:10.632285Z",
     "iopub.status.busy": "2024-06-23T16:29:10.631901Z",
     "iopub.status.idle": "2024-06-23T16:29:11.900045Z",
     "shell.execute_reply": "2024-06-23T16:29:11.898972Z"
    },
    "executionInfo": {
     "elapsed": 1521,
     "status": "ok",
     "timestamp": 1718879135646,
     "user": {
      "displayName": "Luis Muro",
      "userId": "05115176569393165524"
     },
     "user_tz": 240
    },
    "id": "hBYVBHNHQcDu",
    "outputId": "8641e796-9455-42f2-e7c9-1b8a77e36469",
    "papermill": {
     "duration": 1.290726,
     "end_time": "2024-06-23T16:29:11.902171",
     "exception": false,
     "start_time": "2024-06-23T16:29:10.611445",
     "status": "completed"
    },
    "tags": []
   },
   "outputs": [
    {
     "name": "stderr",
     "output_type": "stream",
     "text": [
      "/opt/conda/lib/python3.10/site-packages/seaborn/_oldcore.py:1119: FutureWarning: use_inf_as_na option is deprecated and will be removed in a future version. Convert inf values to NaN before operating instead.\n",
      "  with pd.option_context('mode.use_inf_as_na', True):\n",
      "/opt/conda/lib/python3.10/site-packages/seaborn/_oldcore.py:1119: FutureWarning: use_inf_as_na option is deprecated and will be removed in a future version. Convert inf values to NaN before operating instead.\n",
      "  with pd.option_context('mode.use_inf_as_na', True):\n",
      "/opt/conda/lib/python3.10/site-packages/seaborn/_oldcore.py:1119: FutureWarning: use_inf_as_na option is deprecated and will be removed in a future version. Convert inf values to NaN before operating instead.\n",
      "  with pd.option_context('mode.use_inf_as_na', True):\n"
     ]
    },
    {
     "data": {
      "image/png": "[encoded data removed]",
      "text/plain": [
       "<Figure size 1800x500 with 3 Axes>"
      ]
     },
     "metadata": {},
     "output_type": "display_data"
    }
   ],
   "source": [
    "# Visualizando a relação entre a variavel resposta default com atributos numéricos.\n",
    "# Visualizing the relationship between the default response variable and numeric attributes.\n",
    "\n",
    "\n",
    "# Criando as variáveis para armazenar a figura e os eixos da figura\n",
    "# Creating the variable to store the figure and its axis.\n",
    "\n",
    "coluna = 'qtd_transacoes_12m'\n",
    "titulos = ['Qtd. de transações no último ano', 'Qtd. de transações no ultimo ano de Adimplentes', 'Qtd. de transações no ultimo ano de Inadimplentes']\n",
    "eixo = 0\n",
    "max_y = 0\n",
    "figura, eixos = plt.subplots(1,3, figsize=(18,5), sharex=True)\n",
    "\n",
    "# Loop para percorrer os DataFrames e criar os gráficos\n",
    "# Loop to run through the DataFrames and create the graphs\n",
    "for dataframe in [df, df_adimplente, df_inadimplente]:\n",
    "  f = sns.histplot(x=coluna, data=dataframe, stat='count', ax=eixos[eixo])\n",
    "  f.set(title=titulos[eixo], xlabel=coluna.capitalize(), ylabel='Frequencia Absoluta')\n",
    "\n",
    "  _, max_y_f = f.get_ylim()\n",
    "  max_y = max_y_f if max_y_f > max_y else max_y\n",
    "  f.set(ylim=(0, max_y))\n",
    "\n",
    "  eixo += 1\n",
    "\n",
    "figura.show()\n"
   ]
  },
  {
   "cell_type": "code",
   "execution_count": 41,
   "id": "b2025766",
   "metadata": {
    "execution": {
     "iopub.execute_input": "2024-06-23T16:29:11.943463Z",
     "iopub.status.busy": "2024-06-23T16:29:11.942729Z",
     "iopub.status.idle": "2024-06-23T16:29:13.386245Z",
     "shell.execute_reply": "2024-06-23T16:29:13.385002Z"
    },
    "executionInfo": {
     "elapsed": 2145,
     "status": "ok",
     "timestamp": 1718879137789,
     "user": {
      "displayName": "Luis Muro",
      "userId": "05115176569393165524"
     },
     "user_tz": 240
    },
    "id": "_ldqeRKtvlbh",
    "outputId": "c493d989-ea73-45e8-a2f9-2e36c332d6ff",
    "papermill": {
     "duration": 1.467087,
     "end_time": "2024-06-23T16:29:13.388978",
     "exception": false,
     "start_time": "2024-06-23T16:29:11.921891",
     "status": "completed"
    },
    "tags": []
   },
   "outputs": [
    {
     "name": "stderr",
     "output_type": "stream",
     "text": [
      "/opt/conda/lib/python3.10/site-packages/seaborn/_oldcore.py:1119: FutureWarning: use_inf_as_na option is deprecated and will be removed in a future version. Convert inf values to NaN before operating instead.\n",
      "  with pd.option_context('mode.use_inf_as_na', True):\n",
      "/opt/conda/lib/python3.10/site-packages/seaborn/_oldcore.py:1119: FutureWarning: use_inf_as_na option is deprecated and will be removed in a future version. Convert inf values to NaN before operating instead.\n",
      "  with pd.option_context('mode.use_inf_as_na', True):\n",
      "/opt/conda/lib/python3.10/site-packages/seaborn/_oldcore.py:1119: FutureWarning: use_inf_as_na option is deprecated and will be removed in a future version. Convert inf values to NaN before operating instead.\n",
      "  with pd.option_context('mode.use_inf_as_na', True):\n"
     ]
    },
    {
     "data": {
      "image/png": "[encoded data removed]",
      "text/plain": [
       "<Figure size 1800x500 with 3 Axes>"
      ]
     },
     "metadata": {},
     "output_type": "display_data"
    }
   ],
   "source": [
    "# Criando as variáveis para armazenar a figura e os eixos da figura\n",
    "# Creating the variable to store the figure and its axis.\n",
    "coluna = 'valor_transacoes_12m'\n",
    "titulos = ['Val. de transações no último ano', 'Val. de transações no ultimo ano de Adimplentes', 'Val. de transações no ultimo ano de Inadimplentes']\n",
    "\n",
    "eixo = 0\n",
    "max_y = 0\n",
    "figura, eixos = plt.subplots(1,3, figsize=(18,5), sharex=True)\n",
    "# Loop para percorrer os DataFrames e criar os gráficos\n",
    "# Loop to run through the DataFrames and create the graphs\n",
    "for dataframe in [df, df_adimplente, df_inadimplente]:\n",
    "  f = sns.histplot(x=coluna, data=dataframe, stat='count', ax=eixos[eixo]) # Seaborn configura os plots\n",
    "  f.set(title=titulos[eixo], xlabel=coluna.capitalize(), ylabel='Frequencia Absoluta')\n",
    "\n",
    "# Atualiza o valor máximo de y para manter a escala consistente entre os gráficos\n",
    "# Update the max value of y to keep the scale consistent among other graphs\n",
    "  _, max_y_f = f.get_ylim()\n",
    "  max_y = max_y_f if max_y_f > max_y else max_y\n",
    "  f.set(ylim=(0, max_y))\n",
    "\n",
    "  eixo += 1\n",
    "\n",
    "# Exibe a figura\n",
    "# Displays the figure\n",
    "figura.show()\n"
   ]
  },
  {
   "cell_type": "code",
   "execution_count": 42,
   "id": "0107183f",
   "metadata": {
    "execution": {
     "iopub.execute_input": "2024-06-23T16:29:13.432511Z",
     "iopub.status.busy": "2024-06-23T16:29:13.432143Z",
     "iopub.status.idle": "2024-06-23T16:29:14.803402Z",
     "shell.execute_reply": "2024-06-23T16:29:14.802326Z"
    },
    "executionInfo": {
     "elapsed": 2480,
     "status": "ok",
     "timestamp": 1718879140264,
     "user": {
      "displayName": "Luis Muro",
      "userId": "05115176569393165524"
     },
     "user_tz": 240
    },
    "id": "X4uMbOpAyLxP",
    "outputId": "f570ea62-b7a6-4779-de04-c508fe6b83b4",
    "papermill": {
     "duration": 1.396631,
     "end_time": "2024-06-23T16:29:14.806977",
     "exception": false,
     "start_time": "2024-06-23T16:29:13.410346",
     "status": "completed"
    },
    "tags": []
   },
   "outputs": [
    {
     "data": {
      "image/png": "[encoded data removed]",
      "text/plain": [
       "<Figure size 560.236x500 with 1 Axes>"
      ]
     },
     "metadata": {},
     "output_type": "display_data"
    }
   ],
   "source": [
    "# Valor de transações nos ultimos 12 meses X quantidade de transações nos ultimos 12 meses.\n",
    "# Value of transactions in the last 12 months X number of transactions in the last 12 months.0\n",
    "f = sns.relplot(x='valor_transacoes_12m', y='qtd_transacoes_12m', data=df, hue='default')\n",
    "_= f.set(\n",
    "    title='Relação entre valor e quantidade de transações no ultimo ano',\n",
    "    xlabel='Valor das transações no ultimo ano',\n",
    "    ylabel='Quantidade das transações no ultimo ano'\n",
    ")"
   ]
  }
 ],
 "metadata": {
  "colab": {
   "authorship_tag": "ABX9TyP1xa3ZAVHp6B/Y+02mxqcQ",
   "provenance": []
  },
  "kaggle": {
   "accelerator": "none",
   "dataSources": [
    {
     "datasetId": 5263839,
     "sourceId": 8761118,
     "sourceType": "datasetVersion"
    }
   ],
   "dockerImageVersionId": 30732,
   "isGpuEnabled": false,
   "isInternetEnabled": true,
   "language": "python",
   "sourceType": "notebook"
  },
  "kernelspec": {
   "display_name": "Python 3",
   "language": "python",
   "name": "python3"
  },
  "language_info": {
   "codemirror_mode": {
    "name": "ipython",
    "version": 3
   },
   "file_extension": ".py",
   "mimetype": "text/x-python",
   "name": "python",
   "nbconvert_exporter": "python",
   "pygments_lexer": "ipython3",
   "version": "3.10.13"
  },
  "papermill": {
   "default_parameters": {},
   "duration": 14.525271,
   "end_time": "2024-06-23T16:29:15.351152",
   "environment_variables": {},
   "exception": null,
   "input_path": "__notebook__.ipynb",
   "output_path": "__notebook__.ipynb",
   "parameters": {},
   "start_time": "2024-06-23T16:29:00.825881",
   "version": "2.5.0"
  }
 },
 "nbformat": 4,
 "nbformat_minor": 5
}
